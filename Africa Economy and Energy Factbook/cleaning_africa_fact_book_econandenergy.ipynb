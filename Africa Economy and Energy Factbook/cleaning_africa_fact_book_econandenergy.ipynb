{
 "cells": [
  {
   "cell_type": "markdown",
   "metadata": {},
   "source": [
    "# Cleaning Our Data"
   ]
  },
  {
   "cell_type": "markdown",
   "metadata": {},
   "source": [
    "In the previous notebook, we scraped all the data from Africa on Energy and Economy. For what we're looking for, we only need **electricity generation sources** and **gdp per capita**. \n",
    "\n",
    "This is what we will be working towards."
   ]
  },
  {
   "cell_type": "markdown",
   "metadata": {},
   "source": [
    "### Inspecting our data"
   ]
  },
  {
   "cell_type": "code",
   "execution_count": 138,
   "metadata": {},
   "outputs": [],
   "source": [
    "import pandas as pd"
   ]
  },
  {
   "cell_type": "code",
   "execution_count": 139,
   "metadata": {},
   "outputs": [],
   "source": [
    "df = pd.read_csv('africaecvseg.csv',index_col=[0])"
   ]
  },
  {
   "cell_type": "code",
   "execution_count": 140,
   "metadata": {},
   "outputs": [
    {
     "data": {
      "text/html": [
       "<div>\n",
       "<style scoped>\n",
       "    .dataframe tbody tr th:only-of-type {\n",
       "        vertical-align: middle;\n",
       "    }\n",
       "\n",
       "    .dataframe tbody tr th {\n",
       "        vertical-align: top;\n",
       "    }\n",
       "\n",
       "    .dataframe thead th {\n",
       "        text-align: right;\n",
       "    }\n",
       "</style>\n",
       "<table border=\"1\" class=\"dataframe\">\n",
       "  <thead>\n",
       "    <tr style=\"text-align: right;\">\n",
       "      <th></th>\n",
       "      <th>countries</th>\n",
       "      <th>Economy: Economic overview</th>\n",
       "      <th>Economy: Real GDP (purchasing power parity)</th>\n",
       "      <th>Economy: Real GDP growth rate</th>\n",
       "      <th>Economy: Real GDP per capita</th>\n",
       "      <th>Economy: GDP (official exchange rate)</th>\n",
       "      <th>Economy: Inflation rate (consumer prices)</th>\n",
       "      <th>Economy: Credit ratings</th>\n",
       "      <th>Economy: GDP - composition, by sector of origin</th>\n",
       "      <th>Economy: GDP - composition, by end use</th>\n",
       "      <th>...</th>\n",
       "      <th>Energy: Electricity</th>\n",
       "      <th>Energy: Electricity generation sources</th>\n",
       "      <th>Energy: Coal</th>\n",
       "      <th>Energy: Petroleum</th>\n",
       "      <th>Energy: Refined petroleum products - production</th>\n",
       "      <th>Energy: Refined petroleum products - exports</th>\n",
       "      <th>Energy: Refined petroleum products - imports</th>\n",
       "      <th>Energy: Natural gas</th>\n",
       "      <th>Energy: Carbon dioxide emissions</th>\n",
       "      <th>Energy: Energy consumption per capita</th>\n",
       "    </tr>\n",
       "  </thead>\n",
       "  <tbody>\n",
       "    <tr>\n",
       "      <th>0</th>\n",
       "      <td>['nigeria']</td>\n",
       "      <td>['Nigeria is Sub Saharan Africa’s largest econ...</td>\n",
       "      <td>['$1,013,530,000,000 (2020 est.)$1,032,050,000...</td>\n",
       "      <td>['0.8% (2017 est.)-1.6% (2016 est.)2.7% (2015 ...</td>\n",
       "      <td>['$4,900 (2020 est.)$5,100 (2019 est.)$5,200 (...</td>\n",
       "      <td>['$475.062 billion (2019 est.)']</td>\n",
       "      <td>['11.3% (2019 est.)12.1% (2018 est.)16.5% (201...</td>\n",
       "      <td>[\"Fitch rating: B (2020)Moody's rating: B2 (20...</td>\n",
       "      <td>['agriculture: 21.1% (2016 est.)industry: 22.5...</td>\n",
       "      <td>['household consumption: 80% (2017 est.)govern...</td>\n",
       "      <td>...</td>\n",
       "      <td>['installed generating capacity: 11.691 millio...</td>\n",
       "      <td>['fossil fuels: 78.1% of total installed capac...</td>\n",
       "      <td>['production: 44,000 metric tons (2020 est.)co...</td>\n",
       "      <td>['total petroleum production: 1,646,900 bbl/da...</td>\n",
       "      <td>['35,010 bbl/day (2017 est.)']</td>\n",
       "      <td>['2,332 bbl/day (2015 est.)']</td>\n",
       "      <td>['223,400 bbl/day (2015 est.)']</td>\n",
       "      <td>['production: 46,296,835,000 cubic meters (201...</td>\n",
       "      <td>['104.494 million metric tonnes of CO2 (2019 e...</td>\n",
       "      <td>['8.466 million Btu/person (2019 est.)']</td>\n",
       "    </tr>\n",
       "    <tr>\n",
       "      <th>1</th>\n",
       "      <td>['egypt']</td>\n",
       "      <td>[\"Occupying the northeast corner of the Africa...</td>\n",
       "      <td>['$1,223,040,000,000 (2020 est.)$1,180,890,000...</td>\n",
       "      <td>['4.2% (2017 est.)4.3% (2016 est.)4.4% (2015 e...</td>\n",
       "      <td>['$12,000 (2020 est.)$11,800 (2019 est.)$11,40...</td>\n",
       "      <td>['$323.763 billion (2019 est.)']</td>\n",
       "      <td>['9.3% (2019 est.)14.4% (2018 est.)29.6% (2017...</td>\n",
       "      <td>[\"Fitch rating: B+ (2019)Moody's rating: B2 (2...</td>\n",
       "      <td>['agriculture: 11.7% (2017 est.)industry: 34.3...</td>\n",
       "      <td>['household consumption: 86.8% (2017 est.)gove...</td>\n",
       "      <td>...</td>\n",
       "      <td>['installed generating capacity: 59.826 millio...</td>\n",
       "      <td>['fossil fuels: 88.7% of total installed capac...</td>\n",
       "      <td>['production: 262,000 metric tons (2020 est.)c...</td>\n",
       "      <td>['total petroleum production: 660,800 bbl/day ...</td>\n",
       "      <td>['547,500 bbl/day (2015 est.)']</td>\n",
       "      <td>['47,360 bbl/day (2015 est.)']</td>\n",
       "      <td>['280,200 bbl/day (2015 est.)']</td>\n",
       "      <td>['production: 64,292,955,000 cubic meters (201...</td>\n",
       "      <td>['235.137 million metric tonnes of CO2 (2019 e...</td>\n",
       "      <td>['40.063 million Btu/person (2019 est.)']</td>\n",
       "    </tr>\n",
       "    <tr>\n",
       "      <th>2</th>\n",
       "      <td>['south-africa']</td>\n",
       "      <td>[\"South Africa is a middle-income emerging mar...</td>\n",
       "      <td>['$680.04 billion (2020 est.)$730.91 billion (...</td>\n",
       "      <td>['0.06% (2019 est.)0.7% (2018 est.)1.4% (2017 ...</td>\n",
       "      <td>['$11,500 (2020 est.)$12,500 (2019 est.)$12,60...</td>\n",
       "      <td>['$350.032 billion (2019 est.)']</td>\n",
       "      <td>['4.1% (2019 est.)4.6% (2018 est.)5.2% (2017 e...</td>\n",
       "      <td>[\"Fitch rating: BB- (2020)Moody's rating: Ba2 ...</td>\n",
       "      <td>['agriculture: 2.8% (2017 est.)industry: 29.7%...</td>\n",
       "      <td>['household consumption: 59.4% (2017 est.)gove...</td>\n",
       "      <td>...</td>\n",
       "      <td>['installed generating capacity: 62.728 millio...</td>\n",
       "      <td>['fossil fuels: 87.9% of total installed capac...</td>\n",
       "      <td>['production: 248.388 million metric tons (202...</td>\n",
       "      <td>['total petroleum production: 97,900 bbl/day (...</td>\n",
       "      <td>['487,100 bbl/day (2015 est.)']</td>\n",
       "      <td>['105,600 bbl/day (2015 est.)']</td>\n",
       "      <td>['195,200 bbl/day (2015 est.)']</td>\n",
       "      <td>['production: 1,229,544,000 cubic meters (2019...</td>\n",
       "      <td>['470.358 million metric tonnes of CO2 (2019 e...</td>\n",
       "      <td>['98.474 million Btu/person (2019 est.)']</td>\n",
       "    </tr>\n",
       "    <tr>\n",
       "      <th>3</th>\n",
       "      <td>['algeria']</td>\n",
       "      <td>[\"Algeria's economy remains dominated by the s...</td>\n",
       "      <td>['$468.4 billion (2020 est.)$495.56 billion (2...</td>\n",
       "      <td>['1.4% (2017 est.)3.2% (2016 est.)3.7% (2015 e...</td>\n",
       "      <td>['$10,700 (2020 est.)$11,500 (2019 est.)$11,60...</td>\n",
       "      <td>['$169.912 billion (2019 est.)']</td>\n",
       "      <td>['1.9% (2019 est.)4.2% (2018 est.)5.6% (2017 e...</td>\n",
       "      <td>['note: The year refers to the year in which t...</td>\n",
       "      <td>['agriculture: 13.3% (2017 est.)industry: 39.3...</td>\n",
       "      <td>['household consumption: 42.7% (2017 est.)gove...</td>\n",
       "      <td>...</td>\n",
       "      <td>['installed generating capacity: 21.694 millio...</td>\n",
       "      <td>['fossil fuels: 98.9% of total installed capac...</td>\n",
       "      <td>['production: 0 metric tons (2020 est.)consump...</td>\n",
       "      <td>['total petroleum production: 1,414,800 bbl/da...</td>\n",
       "      <td>['627,900 bbl/day (2015 est.)']</td>\n",
       "      <td>['578,800 bbl/day (2015 est.)']</td>\n",
       "      <td>['82,930 bbl/day (2015 est.)']</td>\n",
       "      <td>['production: 87,853,976,000 cubic meters (201...</td>\n",
       "      <td>['151.633 million metric tonnes of CO2 (2019 e...</td>\n",
       "      <td>['61.433 million Btu/person (2019 est.)']</td>\n",
       "    </tr>\n",
       "    <tr>\n",
       "      <th>4</th>\n",
       "      <td>['morocco']</td>\n",
       "      <td>[\"Morocco has capitalized on its proximity to ...</td>\n",
       "      <td>['$259.42 billion (2020 est.)$279.3 billion (2...</td>\n",
       "      <td>['2.5% (2019 est.)2.96% (2018 est.)3.98% (2017...</td>\n",
       "      <td>['$6,900 (2020 est.)$7,500 (2019 est.)$7,400 (...</td>\n",
       "      <td>['$118.858 billion (2019 est.)']</td>\n",
       "      <td>['0.2% (2019 est.)2% (2018 est.)0.7% (2017 est...</td>\n",
       "      <td>[\"Fitch rating: BB+ (2020)Moody's rating: Ba1 ...</td>\n",
       "      <td>['agriculture: 14% (2017 est.)industry: 29.5% ...</td>\n",
       "      <td>['household consumption: 58% (2017 est.)govern...</td>\n",
       "      <td>...</td>\n",
       "      <td>['installed generating capacity: 14.187 millio...</td>\n",
       "      <td>['fossil fuels: 81.6% of total installed capac...</td>\n",
       "      <td>['production: 0 metric tons (2020 est.)consump...</td>\n",
       "      <td>['total petroleum production: 0 bbl/day (2021 ...</td>\n",
       "      <td>['66,230 bbl/day (2017 est.)']</td>\n",
       "      <td>['9,504 bbl/day (2015 est.)']</td>\n",
       "      <td>['229,300 bbl/day (2015 est.)']</td>\n",
       "      <td>['production: 105.678 million cubic meters (20...</td>\n",
       "      <td>['60.2 million metric tonnes of CO2 (2019 est....</td>\n",
       "      <td>['24.59 million Btu/person (2019 est.)']</td>\n",
       "    </tr>\n",
       "  </tbody>\n",
       "</table>\n",
       "<p>5 rows × 46 columns</p>\n",
       "</div>"
      ],
      "text/plain": [
       "          countries                         Economy: Economic overview  \\\n",
       "0       ['nigeria']  ['Nigeria is Sub Saharan Africa’s largest econ...   \n",
       "1         ['egypt']  [\"Occupying the northeast corner of the Africa...   \n",
       "2  ['south-africa']  [\"South Africa is a middle-income emerging mar...   \n",
       "3       ['algeria']  [\"Algeria's economy remains dominated by the s...   \n",
       "4       ['morocco']  [\"Morocco has capitalized on its proximity to ...   \n",
       "\n",
       "         Economy: Real GDP (purchasing power parity)  \\\n",
       "0  ['$1,013,530,000,000 (2020 est.)$1,032,050,000...   \n",
       "1  ['$1,223,040,000,000 (2020 est.)$1,180,890,000...   \n",
       "2  ['$680.04 billion (2020 est.)$730.91 billion (...   \n",
       "3  ['$468.4 billion (2020 est.)$495.56 billion (2...   \n",
       "4  ['$259.42 billion (2020 est.)$279.3 billion (2...   \n",
       "\n",
       "                       Economy: Real GDP growth rate  \\\n",
       "0  ['0.8% (2017 est.)-1.6% (2016 est.)2.7% (2015 ...   \n",
       "1  ['4.2% (2017 est.)4.3% (2016 est.)4.4% (2015 e...   \n",
       "2  ['0.06% (2019 est.)0.7% (2018 est.)1.4% (2017 ...   \n",
       "3  ['1.4% (2017 est.)3.2% (2016 est.)3.7% (2015 e...   \n",
       "4  ['2.5% (2019 est.)2.96% (2018 est.)3.98% (2017...   \n",
       "\n",
       "                        Economy: Real GDP per capita  \\\n",
       "0  ['$4,900 (2020 est.)$5,100 (2019 est.)$5,200 (...   \n",
       "1  ['$12,000 (2020 est.)$11,800 (2019 est.)$11,40...   \n",
       "2  ['$11,500 (2020 est.)$12,500 (2019 est.)$12,60...   \n",
       "3  ['$10,700 (2020 est.)$11,500 (2019 est.)$11,60...   \n",
       "4  ['$6,900 (2020 est.)$7,500 (2019 est.)$7,400 (...   \n",
       "\n",
       "  Economy: GDP (official exchange rate)  \\\n",
       "0      ['$475.062 billion (2019 est.)']   \n",
       "1      ['$323.763 billion (2019 est.)']   \n",
       "2      ['$350.032 billion (2019 est.)']   \n",
       "3      ['$169.912 billion (2019 est.)']   \n",
       "4      ['$118.858 billion (2019 est.)']   \n",
       "\n",
       "           Economy: Inflation rate (consumer prices)  \\\n",
       "0  ['11.3% (2019 est.)12.1% (2018 est.)16.5% (201...   \n",
       "1  ['9.3% (2019 est.)14.4% (2018 est.)29.6% (2017...   \n",
       "2  ['4.1% (2019 est.)4.6% (2018 est.)5.2% (2017 e...   \n",
       "3  ['1.9% (2019 est.)4.2% (2018 est.)5.6% (2017 e...   \n",
       "4  ['0.2% (2019 est.)2% (2018 est.)0.7% (2017 est...   \n",
       "\n",
       "                             Economy: Credit ratings  \\\n",
       "0  [\"Fitch rating: B (2020)Moody's rating: B2 (20...   \n",
       "1  [\"Fitch rating: B+ (2019)Moody's rating: B2 (2...   \n",
       "2  [\"Fitch rating: BB- (2020)Moody's rating: Ba2 ...   \n",
       "3  ['note: The year refers to the year in which t...   \n",
       "4  [\"Fitch rating: BB+ (2020)Moody's rating: Ba1 ...   \n",
       "\n",
       "     Economy: GDP - composition, by sector of origin  \\\n",
       "0  ['agriculture: 21.1% (2016 est.)industry: 22.5...   \n",
       "1  ['agriculture: 11.7% (2017 est.)industry: 34.3...   \n",
       "2  ['agriculture: 2.8% (2017 est.)industry: 29.7%...   \n",
       "3  ['agriculture: 13.3% (2017 est.)industry: 39.3...   \n",
       "4  ['agriculture: 14% (2017 est.)industry: 29.5% ...   \n",
       "\n",
       "              Economy: GDP - composition, by end use  ...  \\\n",
       "0  ['household consumption: 80% (2017 est.)govern...  ...   \n",
       "1  ['household consumption: 86.8% (2017 est.)gove...  ...   \n",
       "2  ['household consumption: 59.4% (2017 est.)gove...  ...   \n",
       "3  ['household consumption: 42.7% (2017 est.)gove...  ...   \n",
       "4  ['household consumption: 58% (2017 est.)govern...  ...   \n",
       "\n",
       "                                 Energy: Electricity  \\\n",
       "0  ['installed generating capacity: 11.691 millio...   \n",
       "1  ['installed generating capacity: 59.826 millio...   \n",
       "2  ['installed generating capacity: 62.728 millio...   \n",
       "3  ['installed generating capacity: 21.694 millio...   \n",
       "4  ['installed generating capacity: 14.187 millio...   \n",
       "\n",
       "              Energy: Electricity generation sources  \\\n",
       "0  ['fossil fuels: 78.1% of total installed capac...   \n",
       "1  ['fossil fuels: 88.7% of total installed capac...   \n",
       "2  ['fossil fuels: 87.9% of total installed capac...   \n",
       "3  ['fossil fuels: 98.9% of total installed capac...   \n",
       "4  ['fossil fuels: 81.6% of total installed capac...   \n",
       "\n",
       "                                        Energy: Coal  \\\n",
       "0  ['production: 44,000 metric tons (2020 est.)co...   \n",
       "1  ['production: 262,000 metric tons (2020 est.)c...   \n",
       "2  ['production: 248.388 million metric tons (202...   \n",
       "3  ['production: 0 metric tons (2020 est.)consump...   \n",
       "4  ['production: 0 metric tons (2020 est.)consump...   \n",
       "\n",
       "                                   Energy: Petroleum  \\\n",
       "0  ['total petroleum production: 1,646,900 bbl/da...   \n",
       "1  ['total petroleum production: 660,800 bbl/day ...   \n",
       "2  ['total petroleum production: 97,900 bbl/day (...   \n",
       "3  ['total petroleum production: 1,414,800 bbl/da...   \n",
       "4  ['total petroleum production: 0 bbl/day (2021 ...   \n",
       "\n",
       "  Energy: Refined petroleum products - production  \\\n",
       "0                  ['35,010 bbl/day (2017 est.)']   \n",
       "1                 ['547,500 bbl/day (2015 est.)']   \n",
       "2                 ['487,100 bbl/day (2015 est.)']   \n",
       "3                 ['627,900 bbl/day (2015 est.)']   \n",
       "4                  ['66,230 bbl/day (2017 est.)']   \n",
       "\n",
       "  Energy: Refined petroleum products - exports  \\\n",
       "0                ['2,332 bbl/day (2015 est.)']   \n",
       "1               ['47,360 bbl/day (2015 est.)']   \n",
       "2              ['105,600 bbl/day (2015 est.)']   \n",
       "3              ['578,800 bbl/day (2015 est.)']   \n",
       "4                ['9,504 bbl/day (2015 est.)']   \n",
       "\n",
       "  Energy: Refined petroleum products - imports  \\\n",
       "0              ['223,400 bbl/day (2015 est.)']   \n",
       "1              ['280,200 bbl/day (2015 est.)']   \n",
       "2              ['195,200 bbl/day (2015 est.)']   \n",
       "3               ['82,930 bbl/day (2015 est.)']   \n",
       "4              ['229,300 bbl/day (2015 est.)']   \n",
       "\n",
       "                                 Energy: Natural gas  \\\n",
       "0  ['production: 46,296,835,000 cubic meters (201...   \n",
       "1  ['production: 64,292,955,000 cubic meters (201...   \n",
       "2  ['production: 1,229,544,000 cubic meters (2019...   \n",
       "3  ['production: 87,853,976,000 cubic meters (201...   \n",
       "4  ['production: 105.678 million cubic meters (20...   \n",
       "\n",
       "                    Energy: Carbon dioxide emissions  \\\n",
       "0  ['104.494 million metric tonnes of CO2 (2019 e...   \n",
       "1  ['235.137 million metric tonnes of CO2 (2019 e...   \n",
       "2  ['470.358 million metric tonnes of CO2 (2019 e...   \n",
       "3  ['151.633 million metric tonnes of CO2 (2019 e...   \n",
       "4  ['60.2 million metric tonnes of CO2 (2019 est....   \n",
       "\n",
       "       Energy: Energy consumption per capita  \n",
       "0   ['8.466 million Btu/person (2019 est.)']  \n",
       "1  ['40.063 million Btu/person (2019 est.)']  \n",
       "2  ['98.474 million Btu/person (2019 est.)']  \n",
       "3  ['61.433 million Btu/person (2019 est.)']  \n",
       "4   ['24.59 million Btu/person (2019 est.)']  \n",
       "\n",
       "[5 rows x 46 columns]"
      ]
     },
     "execution_count": 140,
     "metadata": {},
     "output_type": "execute_result"
    }
   ],
   "source": [
    "df.head()"
   ]
  },
  {
   "cell_type": "markdown",
   "metadata": {},
   "source": [
    "Let's first see the nature of the data we want: `Economy: Real GDP per capita`, and `Energy: Electricity generation sources`."
   ]
  },
  {
   "cell_type": "code",
   "execution_count": 141,
   "metadata": {},
   "outputs": [
    {
     "data": {
      "text/plain": [
       "\"['$4,900 (2020 est.)$5,100 (2019 est.)$5,200 (2018 est.)note: data are in 2017 dollars']\""
      ]
     },
     "execution_count": 141,
     "metadata": {},
     "output_type": "execute_result"
    }
   ],
   "source": [
    "df['Economy: Real GDP per capita'][0]"
   ]
  },
  {
   "cell_type": "code",
   "execution_count": 142,
   "metadata": {},
   "outputs": [
    {
     "data": {
      "text/plain": [
       "\"['fossil fuels: 78.1% of total installed capacity (2020 est.)nuclear: 0% of total installed capacity (2020 est.)solar: 0.2% of total installed capacity (2020 est.)wind: 0% of total installed capacity (2020 est.)hydroelectricity: 21.7% of total installed capacity (2020 est.)tide and wave: 0% of total installed capacity (2020 est.)geothermal: 0% of total installed capacity (2020 est.)biomass and waste: 0.1% of total installed capacity (2020 est.)']\""
      ]
     },
     "execution_count": 142,
     "metadata": {},
     "output_type": "execute_result"
    }
   ],
   "source": [
    "df['Energy: Electricity generation sources'][0]"
   ]
  },
  {
   "cell_type": "markdown",
   "metadata": {},
   "source": [
    "### Making necessary changes"
   ]
  },
  {
   "cell_type": "markdown",
   "metadata": {},
   "source": [
    "For the Electricity Generation Sources, we can see that all the data we have is as at 2020. If we were to make a visualization against gdp per capita, we would need to use data from the same year. In this case, we'll stick with 2020."
   ]
  },
  {
   "cell_type": "code",
   "execution_count": 143,
   "metadata": {},
   "outputs": [],
   "source": [
    "import numpy as np"
   ]
  },
  {
   "cell_type": "code",
   "execution_count": 144,
   "metadata": {},
   "outputs": [],
   "source": [
    "economygdp=np.array(df['Economy: Real GDP per capita'])"
   ]
  },
  {
   "cell_type": "code",
   "execution_count": 145,
   "metadata": {},
   "outputs": [
    {
     "data": {
      "text/plain": [
       "array([\"['$4,900 (2020 est.)$5,100 (2019 est.)$5,200 (2018 est.)note: data are in 2017 dollars']\",\n",
       "       \"['$12,000 (2020 est.)$11,800 (2019 est.)$11,400 (2018 est.)note: data are in 2017 dollars']\",\n",
       "       \"['$11,500 (2020 est.)$12,500 (2019 est.)$12,600 (2018 est.)note: data are in 2017 dollars']\",\n",
       "       \"['$10,700 (2020 est.)$11,500 (2019 est.)$11,600 (2018 est.)note: data are in 2017 dollars']\",\n",
       "       \"['$6,900 (2020 est.)$7,500 (2019 est.)$7,400 (2018 est.)note: data are in 2017 dollars']\",\n",
       "       \"['$6,200 (2020 est.)$6,700 (2019 est.)$6,900 (2018 est.)note: data are in 2017 dollars']\",\n",
       "       \"['$4,200 (2020 est.)$4,300 (2019 est.)$4,200 (2018 est.)note: data are in 2017 dollars']\",\n",
       "       \"['$2,300 (2020 est.)$2,200 (2019 est.)$2,100 (2018 est.)note: data are in 2017 dollars']\",\n",
       "       \"['$2,600 (2020 est.)$2,700 (2019 est.)$2,600 (2018 est.)note: data are in 2017 dollars']\",\n",
       "       \"['$5,300 (2020 est.)$5,400 (2019 est.)$5,200 (2018 est.)note: data are in 2017 dollars']\",\n",
       "       \"['$5,200 (2020 est.)$5,200 (2019 est.)$5,000 (2018 est.)note: data are in 2017 dollars']\",\n",
       "       \"['$1,100 (2020 est.)$1,100 (2019 est.)$1,100 (2018 est.)note: data are in 2017 dollars']\",\n",
       "       \"['$2,200 (2020 est.)$2,200 (2019 est.)$2,100 (2018 est.)note: data are in 2017 dollars']\",\n",
       "       \"['$9,700 (2020 est.)$10,800 (2019 est.)$10,800 (2018 est.)note: data are in 2017 dollars']\",\n",
       "       \"['$3,600 (2020 est.)$3,600 (2019 est.)$3,600 (2018 est.)note: data are in 2017 dollars']\",\n",
       "       \"['$4,000 (2020 est.)$4,200 (2019 est.)$4,300 (2018 est.)note: data are in 2017 dollars']\",\n",
       "       \"['$10,300 (2020 est.)$15,200 (2019 est.)$15,000 (2018 est.)note: data are in 2017 dollars']\",\n",
       "       \"['$2,700 (2020 est.)$3,000 (2019 est.)$3,300 (2018 est.)note: data are in 2017 dollars']\",\n",
       "       \"['$3,300 (2020 est.)$3,400 (2019 est.)$3,300 (2018 est.)note: data are in 2017 dollars']\",\n",
       "       \"['$3,300 (2020 est.)$3,500 (2019 est.)$3,500 (2018 est.)note: data are in 2017 dollars']\",\n",
       "       \"['$14,400 (2020 est.)$15,000 (2019 est.)$14,700 (2018 est.)note: data are in 2017 dollars']\",\n",
       "       \"['$2,700 (2020 est.)$2,600 (2019 est.)$2,500 (2018 est.)note: data are in 2017 dollars']\",\n",
       "       \"['$2,200 (2020 est.)$2,300 (2019 est.)$2,300 (2018 est.)note: data are in 2017 dollars']\",\n",
       "       \"['$2,200 (2020 est.)$2,200 (2019 est.)$2,100 (2018 est.)note: data are in 2017 dollars']\",\n",
       "       \"['$16,000 (2020 est.)$17,800 (2019 est.)$17,600 (2018 est.)note: data are in 2017 dollars']\",\n",
       "       \"['$1,200 (2020 est.)$1,300 (2019 est.)$1,300 (2018 est.)note: data are in 2017 dollars']\",\n",
       "       \"['$3,300 (2020 est.)$3,300 (2019 est.)$3,200 (2018 est.)note: data are in 2017 dollars']\",\n",
       "       \"['$17,000 (2020 est.)$18,500 (2019 est.)$20,400 (2018 est.)note: data are in 2017 dollars']\",\n",
       "       \"['$1,500 (2020 est.)$1,600 (2019 est.)$1,600 (2018 est.)note: data are in 2017 dollars']\",\n",
       "       \"['$1,200 (2020 est.)$1,200 (2019 est.)$1,200 (2018 est.)note: data are in 2017 dollars']\",\n",
       "       \"['$3,400 (2020 est.)$3,800 (2019 est.)$3,900 (2018 est.)note: data are in 2017 dollars']\",\n",
       "       \"['$1,500 (2020 est.)$1,600 (2019 est.)$1,600 (2018 est.)note: data are in 2017 dollars']\",\n",
       "       \"['$8,900 (2020 est.)$9,800 (2019 est.)$10,100 (2018 est.)note: data are in 2017 dollars']\",\n",
       "       \"['$2,100 (2020 est.)$2,200 (2019 est.)$2,100 (2018 est.)note: data are in 2017 dollars']\",\n",
       "       \"['$1,500 (2020 est.)$1,500 (2019 est.)$1,500 (2018 est.)note: data are in 2017 dollars']\",\n",
       "       \"['$19,500 (2020 est.)$22,900 (2019 est.)$22,200 (2018 est.)note: data are in 2017 dollars']\",\n",
       "       \"['$5,000 (2020 est.)$5,200 (2019 est.)$5,000 (2018 est.)note: data are in 2017 dollars']\",\n",
       "       \"['$800 (2020 est.)$900 (2019 est.)$900 (2018 est.)note: data are in 2017 dollars']\",\n",
       "       \"['$2,100 (2020 est.)$2,100 (2019 est.)$2,100 (2018 est.)note: data are in 2017 dollars']\",\n",
       "       \"['$1,600 (2017 est.)$1,700 (2016 est.)$2,100 (2015 est.)note: data are in 2017 dollars']\",\n",
       "       \"['$8,400 (2020 est.)$8,600 (2019 est.)$8,500 (2018 est.)note: data are in 2017 dollars']\",\n",
       "       \"['$1,600 (2020 est.)$1,700 (2019 est.)$1,700 (2018 est.)note: data are in 2017 dollars']\",\n",
       "       \"['$1,400 (2020 est.)$1,400 (2019 est.)$1,500 (2018 est.)note: data are in 2017 dollars']\",\n",
       "       \"['$5,500 (2020 est.)$5,500 (2019 est.)$5,200 (2018 est.)note: data are in 2017 dollars']\",\n",
       "       \"['$700 (2020 est.)$800 (2019 est.)$800 (2018 est.)note: data are in 2017 dollars']\",\n",
       "       \"['$2,300 (2020 est.)$2,600 (2019 est.)$2,600 (2018 est.)note: data are in 2017 dollars']\",\n",
       "       \"['$900 (2020 est.)$900 (2019 est.)$900 (2018 est.)note: data are in 2017 dollars']\",\n",
       "       \"['$1,600 (2017 est.)$1,500 (2016 est.)$1,500 (2015 est.)note: data are in 2017 dollars']\",\n",
       "       \"['$2,200 (2020 est.)$2,200 (2019 est.)$2,200 (2018 est.)note: data are in 2017 dollars']\",\n",
       "       \"['$6,000 (2020 est.)$7,200 (2019 est.)$6,900 (2018 est.)note: data are in 2017 dollars']\",\n",
       "       \"['$24,400 (2020 est.)$27,500 (2019 est.)$27,300 (2018 est.)note: data are in 2017 dollars']\",\n",
       "       \"['$1,800 (2020 est.)$1,900 (2019 est.)$1,900 (2018 est.)note: data are in 2017 dollars']\",\n",
       "       \"['$3,100 (2020 est.)$3,100 (2019 est.)$3,100 (2018 est.)note: data are in 2017 dollars']\",\n",
       "       \"['$4,100 (2020 est.)$4,000 (2019 est.)$4,000 (2018 est.)note: data are in 2017 dollars']\"],\n",
       "      dtype=object)"
      ]
     },
     "execution_count": 145,
     "metadata": {},
     "output_type": "execute_result"
    }
   ],
   "source": [
    "economygdp"
   ]
  },
  {
   "cell_type": "code",
   "execution_count": 146,
   "metadata": {},
   "outputs": [
    {
     "data": {
      "text/plain": [
       "'4,900'"
      ]
     },
     "execution_count": 146,
     "metadata": {},
     "output_type": "execute_result"
    }
   ],
   "source": [
    "economygdp[0].split(' (2020')[0][3:]"
   ]
  },
  {
   "cell_type": "code",
   "execution_count": 147,
   "metadata": {},
   "outputs": [],
   "source": [
    "gdplist=[gdp.split(' (2020')[0][3:] for gdp in economygdp]"
   ]
  },
  {
   "cell_type": "code",
   "execution_count": 148,
   "metadata": {},
   "outputs": [
    {
     "data": {
      "text/plain": [
       "['4,900',\n",
       " '12,000',\n",
       " '11,500',\n",
       " '10,700',\n",
       " '6,900',\n",
       " '6,200',\n",
       " '4,200',\n",
       " '2,300',\n",
       " '2,600',\n",
       " '5,300',\n",
       " '5,200',\n",
       " '1,100',\n",
       " '2,200',\n",
       " '9,700',\n",
       " '3,600',\n",
       " '4,000',\n",
       " '10,300',\n",
       " '2,700',\n",
       " '3,300',\n",
       " '3,300',\n",
       " '14,400',\n",
       " '2,700',\n",
       " '2,200',\n",
       " '2,200',\n",
       " '16,000',\n",
       " '1,200',\n",
       " '3,300',\n",
       " '17,000',\n",
       " '1,500',\n",
       " '1,200',\n",
       " '3,400',\n",
       " '1,500',\n",
       " '8,900',\n",
       " '2,100',\n",
       " '1,500',\n",
       " '19,500',\n",
       " '5,000',\n",
       " '800',\n",
       " '2,100',\n",
       " \"1,600 (2017 est.)$1,700 (2016 est.)$2,100 (2015 est.)note: data are in 2017 dollars']\",\n",
       " '8,400',\n",
       " '1,600',\n",
       " '1,400',\n",
       " '5,500',\n",
       " '700',\n",
       " '2,300',\n",
       " '900',\n",
       " \"1,600 (2017 est.)$1,500 (2016 est.)$1,500 (2015 est.)note: data are in 2017 dollars']\",\n",
       " '2,200',\n",
       " '6,000',\n",
       " '24,400',\n",
       " '1,800',\n",
       " '3,100',\n",
       " '4,100']"
      ]
     },
     "execution_count": 148,
     "metadata": {},
     "output_type": "execute_result"
    }
   ],
   "source": [
    "gdplist"
   ]
  },
  {
   "cell_type": "markdown",
   "metadata": {},
   "source": [
    "From our output, we realize that there are countries without 2020 data(index 39 and 47). For consistency, we'll pop these from our data."
   ]
  },
  {
   "cell_type": "code",
   "execution_count": 149,
   "metadata": {},
   "outputs": [
    {
     "data": {
      "text/plain": [
       "\"['eritrea']\""
      ]
     },
     "execution_count": 149,
     "metadata": {},
     "output_type": "execute_result"
    }
   ],
   "source": [
    "df.countries[47]"
   ]
  },
  {
   "cell_type": "code",
   "execution_count": 150,
   "metadata": {},
   "outputs": [
    {
     "data": {
      "text/plain": [
       "\"1,600 (2017 est.)$1,500 (2016 est.)$1,500 (2015 est.)note: data are in 2017 dollars']\""
      ]
     },
     "execution_count": 150,
     "metadata": {},
     "output_type": "execute_result"
    }
   ],
   "source": [
    "gdplist.pop(47)"
   ]
  },
  {
   "cell_type": "code",
   "execution_count": 151,
   "metadata": {},
   "outputs": [
    {
     "data": {
      "text/plain": [
       "\"1,600 (2017 est.)$1,700 (2016 est.)$2,100 (2015 est.)note: data are in 2017 dollars']\""
      ]
     },
     "execution_count": 151,
     "metadata": {},
     "output_type": "execute_result"
    }
   ],
   "source": [
    "gdplist.pop(39)"
   ]
  },
  {
   "cell_type": "markdown",
   "metadata": {},
   "source": [
    "### Electricity Generation Sources"
   ]
  },
  {
   "cell_type": "code",
   "execution_count": 152,
   "metadata": {},
   "outputs": [],
   "source": [
    "# all electricity generation sources, and the percentage they contribute\n",
    "elegensources=[np.array(df['Energy: Electricity generation sources'][i].split(' of total installed capacity (2020 est.)')) for i in range(len(np.hstack(df['Energy: Electricity generation sources'])))]"
   ]
  },
  {
   "cell_type": "code",
   "execution_count": 153,
   "metadata": {},
   "outputs": [
    {
     "data": {
      "text/plain": [
       "[array([\"['fossil fuels: 78.1%\", 'nuclear: 0%', 'solar: 0.2%', 'wind: 0%',\n",
       "        'hydroelectricity: 21.7%', 'tide and wave: 0%', 'geothermal: 0%',\n",
       "        'biomass and waste: 0.1%', \"']\"], dtype='<U23'),\n",
       " array([\"['fossil fuels: 88.7%\", 'nuclear: 0%', 'solar: 1%', 'wind: 2.5%',\n",
       "        'hydroelectricity: 7.7%', 'tide and wave: 0%', 'geothermal: 0%',\n",
       "        'biomass and waste: 0.2%', \"']\"], dtype='<U23'),\n",
       " array([\"['fossil fuels: 87.9%\", 'nuclear: 5.2%', 'solar: 1.6%',\n",
       "        'wind: 2.6%', 'hydroelectricity: 2.5%', 'tide and wave: 0%',\n",
       "        'geothermal: 0%', 'biomass and waste: 0.2%', \"']\"], dtype='<U23'),\n",
       " array([\"['fossil fuels: 98.9%\", 'nuclear: 0%', 'solar: 0.9%', 'wind: 0%',\n",
       "        'hydroelectricity: 0.1%', 'tide and wave: 0%', 'geothermal: 0%',\n",
       "        'biomass and waste: 0%', \"']\"], dtype='<U22'),\n",
       " array([\"['fossil fuels: 81.6%\", 'nuclear: 0%', 'solar: 1.1%', 'wind: 13%',\n",
       "        'hydroelectricity: 4.4%', 'tide and wave: 0%', 'geothermal: 0%',\n",
       "        'biomass and waste: 0%', \"']\"], dtype='<U22'),\n",
       " array([\"['fossil fuels: 28.4%\", 'nuclear: 0%', 'solar: 0.1%', 'wind: 0%',\n",
       "        'hydroelectricity: 70.1%', 'tide and wave: 0%', 'geothermal: 0%',\n",
       "        'biomass and waste: 1.4%', \"']\"], dtype='<U23'),\n",
       " array([\"['fossil fuels: 8.3%\", 'nuclear: 0%', 'solar: 1%', 'wind: 10.7%',\n",
       "        'hydroelectricity: 32.6%', 'tide and wave: 0%',\n",
       "        'geothermal: 46.2%', 'biomass and waste: 1.2%', \"']\"], dtype='<U23'),\n",
       " array([\"['fossil fuels: 0%\", 'nuclear: 0%', 'solar: 0.1%', 'wind: 3.8%',\n",
       "        'hydroelectricity: 95.8%', 'tide and wave: 0%', 'geothermal: 0%',\n",
       "        'biomass and waste: 0.3%', \"']\"], dtype='<U23'),\n",
       " array([\"['fossil fuels: 65%\", 'nuclear: 0%', 'solar: 1.3%', 'wind: 0%',\n",
       "        'hydroelectricity: 32.8%', 'tide and wave: 0%', 'geothermal: 0%',\n",
       "        'biomass and waste: 1%', \"']\"], dtype='<U23'),\n",
       " array([\"['fossil fuels: 63.8%\", 'nuclear: 0%', 'solar: 0.3%', 'wind: 0%',\n",
       "        'hydroelectricity: 35.9%', 'tide and wave: 0%', 'geothermal: 0%',\n",
       "        'biomass and waste: 0.1%', \"']\"], dtype='<U23'),\n",
       " array([\"['fossil fuels: 75.6%\", 'nuclear: 0%', 'solar: 0.2%', 'wind: 0%',\n",
       "        'hydroelectricity: 24.2%', 'tide and wave: 0%', 'geothermal: 0%',\n",
       "        'biomass and waste: 0%', \"']\"], dtype='<U23'),\n",
       " array([\"['fossil fuels: 0.1%\", 'nuclear: 0%', 'solar: 0.1%', 'wind: 0%',\n",
       "        'hydroelectricity: 99.6%', 'tide and wave: 0%', 'geothermal: 0%',\n",
       "        'biomass and waste: 0.3%', \"']\"], dtype='<U23'),\n",
       " array([\"['fossil fuels: 1.3%\", 'nuclear: 0%', 'solar: 1.6%', 'wind: 0%',\n",
       "        'hydroelectricity: 86.4%', 'tide and wave: 0%', 'geothermal: 0%',\n",
       "        'biomass and waste: 10.8%', \"']\"], dtype='<U24'),\n",
       " array([\"['fossil fuels: 95.9%\", 'nuclear: 0%', 'solar: 1.3%',\n",
       "        'wind: 2.6%', 'hydroelectricity: 0.3%', 'tide and wave: 0%',\n",
       "        'geothermal: 0%', 'biomass and waste: 0%', \"']\"], dtype='<U22'),\n",
       " array([\"['fossil fuels: 32.5%\", 'nuclear: 0%', 'solar: 0.2%', 'wind: 0%',\n",
       "        'hydroelectricity: 67.3%', 'tide and wave: 0%', 'geothermal: 0%',\n",
       "        'biomass and waste: 0%', \"']\"], dtype='<U23'),\n",
       " array([\"['fossil fuels: 43.5%\", 'nuclear: 0%', 'solar: 0.1%', 'wind: 0%',\n",
       "        'hydroelectricity: 55.5%', 'tide and wave: 0%', 'geothermal: 0%',\n",
       "        'biomass and waste: 0.9%', \"']\"], dtype='<U23'),\n",
       " array([\"['fossil fuels: 100%\", 'nuclear: 0%', 'solar: 0%', 'wind: 0%',\n",
       "        'hydroelectricity: 0%', 'tide and wave: 0%', 'geothermal: 0%',\n",
       "        'biomass and waste: 0%', \"']\"], dtype='<U21'),\n",
       " array([\"['fossil fuels: 32.9%\", 'nuclear: 0%', 'solar: 0.1%', 'wind: 0%',\n",
       "        'hydroelectricity: 65.3%', 'tide and wave: 0%', 'geothermal: 0%',\n",
       "        'biomass and waste: 1.7%', \"']\"], dtype='<U23'),\n",
       " array([\"['fossil fuels: 84.8%\", 'nuclear: 0%', 'solar: 6%', 'wind: 0.5%',\n",
       "        'hydroelectricity: 6.3%', 'tide and wave: 0%', 'geothermal: 0%',\n",
       "        'biomass and waste: 2.4%', \"']\"], dtype='<U23'),\n",
       " array([\"['fossil fuels: 13%\", 'nuclear: 0%', 'solar: 0.9%', 'wind: 0%',\n",
       "        'hydroelectricity: 85.5%', 'tide and wave: 0%', 'geothermal: 0%',\n",
       "        'biomass and waste: 0.5%', \"']\"], dtype='<U23'),\n",
       " array([\"['fossil fuels: 40.6%\", 'nuclear: 0%', 'solar: 0.1%', 'wind: 0%',\n",
       "        'hydroelectricity: 59%', 'tide and wave: 0%', 'geothermal: 0%',\n",
       "        'biomass and waste: 0.3%', \"']\"], dtype='<U23'),\n",
       " array([\"['fossil fuels: 22.2%\", 'nuclear: 0%', 'solar: 0.7%', 'wind: 0%',\n",
       "        'hydroelectricity: 77.1%', 'tide and wave: 0%', 'geothermal: 0%',\n",
       "        'biomass and waste: 0%', \"']\"], dtype='<U23'),\n",
       " array([\"['fossil fuels: 67.4%\", 'nuclear: 0%', 'solar: 1%', 'wind: 0%',\n",
       "        'hydroelectricity: 29.7%', 'tide and wave: 0%', 'geothermal: 0%',\n",
       "        'biomass and waste: 1.9%', \"']\"], dtype='<U23'),\n",
       " array([\"['fossil fuels: 89.4%\", 'nuclear: 0%', 'solar: 3.3%', 'wind: 0%',\n",
       "        'hydroelectricity: 6.9%', 'tide and wave: 0%', 'geothermal: 0%',\n",
       "        'biomass and waste: 0.4%', \"']\"], dtype='<U23'),\n",
       " array([\"['fossil fuels: 99.8%\", 'nuclear: 0%', 'solar: 0.2%', 'wind: 0%',\n",
       "        'hydroelectricity: 0%', 'tide and wave: 0%', 'geothermal: 0%',\n",
       "        'biomass and waste: 0%', \"']\"], dtype='<U21'),\n",
       " array([\"['fossil fuels: 19.6%\", 'nuclear: 0%', 'solar: 0.2%', 'wind: 0%',\n",
       "        'hydroelectricity: 79.6%', 'tide and wave: 0%', 'geothermal: 0%',\n",
       "        'biomass and waste: 0.6%', \"']\"], dtype='<U23'),\n",
       " array([\"['fossil fuels: 96.9%\", 'nuclear: 0%', 'solar: 3.1%', 'wind: 0%',\n",
       "        'hydroelectricity: 0%', 'tide and wave: 0%', 'geothermal: 0%',\n",
       "        'biomass and waste: 0%', \"']\"], dtype='<U21'),\n",
       " array([\"['fossil fuels: 89.4%\", 'nuclear: 0%', 'solar: 0%', 'wind: 0%',\n",
       "        'hydroelectricity: 10.6%', 'tide and wave: 0%', 'geothermal: 0%',\n",
       "        'biomass and waste: 0%', \"']\"], dtype='<U23'),\n",
       " array([\"['fossil fuels: 59.8%\", 'nuclear: 0%', 'solar: 1.1%', 'wind: 0%',\n",
       "        'hydroelectricity: 38.2%', 'tide and wave: 0%', 'geothermal: 0%',\n",
       "        'biomass and waste: 1%', \"']\"], dtype='<U23'),\n",
       " array([\"['fossil fuels: 94.1%\", 'nuclear: 0%', 'solar: 5.9%', 'wind: 0%',\n",
       "        'hydroelectricity: 0%', 'tide and wave: 0%', 'geothermal: 0%',\n",
       "        'biomass and waste: 0%', \"']\"], dtype='<U21'),\n",
       " array([\"['fossil fuels: 70.1%\", 'nuclear: 0%', 'solar: 0%', 'wind: 0%',\n",
       "        'hydroelectricity: 29.9%', 'tide and wave: 0%', 'geothermal: 0%',\n",
       "        'biomass and waste: 0%', \"']\"], dtype='<U23'),\n",
       " array([\"['fossil fuels: 96.8%\", 'nuclear: 0%', 'solar: 0%', 'wind: 3.2%',\n",
       "        'hydroelectricity: 0%', 'tide and wave: 0%', 'geothermal: 0%',\n",
       "        'biomass and waste: 0%', \"']\"], dtype='<U21'),\n",
       " array([\"['fossil fuels: 6.1%\", 'nuclear: 0%', 'solar: 4.7%', 'wind: 0.5%',\n",
       "        'hydroelectricity: 88.8%', 'tide and wave: 0%', 'geothermal: 0%',\n",
       "        'biomass and waste: 0%', \"']\"], dtype='<U23'),\n",
       " array([\"['fossil fuels: 39%\", 'nuclear: 0%', 'solar: 6.5%', 'wind: 0%',\n",
       "        'hydroelectricity: 53.9%', 'tide and wave: 0%', 'geothermal: 0%',\n",
       "        'biomass and waste: 0.6%', \"']\"], dtype='<U23'),\n",
       " array([\"['fossil fuels: 11.8%\", 'nuclear: 0%', 'solar: 3.2%', 'wind: 0%',\n",
       "        'hydroelectricity: 81.9%', 'tide and wave: 0%', 'geothermal: 0%',\n",
       "        'biomass and waste: 3.2%', \"']\"], dtype='<U23'),\n",
       " array([\"['fossil fuels: 75.4%\", 'nuclear: 0%', 'solar: 5.3%',\n",
       "        'wind: 0.7%', 'hydroelectricity: 3.7%', 'tide and wave: 0%',\n",
       "        'geothermal: 0%', 'biomass and waste: 15%', \"']\"], dtype='<U22'),\n",
       " array([\"['fossil fuels: 73.2%\", 'nuclear: 0%', 'solar: 8.1%',\n",
       "        'wind: 6.8%', 'hydroelectricity: 11.9%', 'tide and wave: 0%',\n",
       "        'geothermal: 0%', 'biomass and waste: 0%', \"']\"], dtype='<U23'),\n",
       " array([\"['fossil fuels: 95.3%\", 'nuclear: 0%', 'solar: 3%', 'wind: 1.7%',\n",
       "        'hydroelectricity: 0%', 'tide and wave: 0%', 'geothermal: 0%',\n",
       "        'biomass and waste: 0%', \"']\"], dtype='<U21'),\n",
       " array([\"['fossil fuels: 82.2%\", 'nuclear: 0%', 'solar: 0.6%', 'wind: 0%',\n",
       "        'hydroelectricity: 17.2%', 'tide and wave: 0%', 'geothermal: 0%',\n",
       "        'biomass and waste: 0%', \"']\"], dtype='<U23'),\n",
       " array([\"['fossil fuels: 99.2%\", 'nuclear: 0%', 'solar: 0.8%', 'wind: 0%',\n",
       "        'hydroelectricity: 0%', 'tide and wave: 0%', 'geothermal: 0%',\n",
       "        'biomass and waste: 0%', \"']\"], dtype='<U21'),\n",
       " array([\"['fossil fuels: 44.1%\", 'nuclear: 0%', 'solar: 0.2%', 'wind: 0%',\n",
       "        'hydroelectricity: 24.8%', 'tide and wave: 0%', 'geothermal: 0%',\n",
       "        'biomass and waste: 31%', \"']\"], dtype='<U23'),\n",
       " array([\"['fossil fuels: 8.2%\", 'nuclear: 0%', 'solar: 2.9%', 'wind: 0%',\n",
       "        'hydroelectricity: 87%', 'tide and wave: 0%', 'geothermal: 0%',\n",
       "        'biomass and waste: 1.9%', \"']\"], dtype='<U23'),\n",
       " array([\"['fossil fuels: 40.5%\", 'nuclear: 0%', 'solar: 0.5%', 'wind: 0%',\n",
       "        'hydroelectricity: 59.1%', 'tide and wave: 0%', 'geothermal: 0%',\n",
       "        'biomass and waste: 0%', \"']\"], dtype='<U23'),\n",
       " array([\"['fossil fuels: 98.2%\", 'nuclear: 0%', 'solar: 1.8%', 'wind: 0%',\n",
       "        'hydroelectricity: 0%', 'tide and wave: 0%', 'geothermal: 0%',\n",
       "        'biomass and waste: 0%', \"']\"], dtype='<U21'),\n",
       " array([\"['fossil fuels: 33.3%\", 'nuclear: 0%', 'solar: 2.3%', 'wind: 0%',\n",
       "        'hydroelectricity: 62.8%', 'tide and wave: 0%', 'geothermal: 0%',\n",
       "        'biomass and waste: 1.7%', \"']\"], dtype='<U23'),\n",
       " array([\"['fossil fuels: 0%\", 'nuclear: 0%', 'solar: 0.2%', 'wind: 0%',\n",
       "        'hydroelectricity: 99.8%', 'tide and wave: 0%', 'geothermal: 0%',\n",
       "        'biomass and waste: 0%', \"']\"], dtype='<U23'),\n",
       " array([\"['fossil fuels: 0.7%\", 'nuclear: 0%', 'solar: 0%', 'wind: 0%',\n",
       "        'hydroelectricity: 99.3%', 'tide and wave: 0%', 'geothermal: 0%',\n",
       "        'biomass and waste: 0%', \"']\"], dtype='<U23'),\n",
       " array([\"['fossil fuels: 93.8%\", 'nuclear: 0%', 'solar: 5.7%',\n",
       "        'wind: 0.5%', 'hydroelectricity: 0%', 'tide and wave: 0%',\n",
       "        'geothermal: 0%', 'biomass and waste: 0%', \"']\"], dtype='<U21'),\n",
       " array([\"['fossil fuels: 98.9%\", 'nuclear: 0%', 'solar: 1%', 'wind: 0%',\n",
       "        'hydroelectricity: 0%', 'tide and wave: 0%', 'geothermal: 0%',\n",
       "        'biomass and waste: 0%', \"']\"], dtype='<U21'),\n",
       " array([\"['fossil fuels: 80.2%\", 'nuclear: 0%', 'solar: 2%', 'wind: 17.8%',\n",
       "        'hydroelectricity: 0%', 'tide and wave: 0%', 'geothermal: 0%',\n",
       "        'biomass and waste: 0%', \"']\"], dtype='<U21'),\n",
       " array([\"['fossil fuels: 99.1%\", 'nuclear: 0%', 'solar: 0.9%', 'wind: 0%',\n",
       "        'hydroelectricity: 0%', 'tide and wave: 0%', 'geothermal: 0%',\n",
       "        'biomass and waste: 0%', \"']\"], dtype='<U21'),\n",
       " array([\"['fossil fuels: 97.6%\", 'nuclear: 0%', 'solar: 2.4%', 'wind: 0%',\n",
       "        'hydroelectricity: 0%', 'tide and wave: 0%', 'geothermal: 0%',\n",
       "        'biomass and waste: 0%', \"']\"], dtype='<U21'),\n",
       " array([\"['fossil fuels: 100%\", 'nuclear: 0%', 'solar: 0%', 'wind: 0%',\n",
       "        'hydroelectricity: 0%', 'tide and wave: 0%', 'geothermal: 0%',\n",
       "        'biomass and waste: 0%', \"']\"], dtype='<U21'),\n",
       " array([\"['fossil fuels: 89.5%\", 'nuclear: 0%', 'solar: 0%', 'wind: 0%',\n",
       "        'hydroelectricity: 10.5%', 'tide and wave: 0%', 'geothermal: 0%',\n",
       "        'biomass and waste: 0%', \"']\"], dtype='<U23')]"
      ]
     },
     "execution_count": 153,
     "metadata": {},
     "output_type": "execute_result"
    }
   ],
   "source": [
    "elegensources"
   ]
  },
  {
   "cell_type": "code",
   "execution_count": 154,
   "metadata": {},
   "outputs": [],
   "source": [
    "translation_table = dict.fromkeys(map(ord, '(),\\n\\\"\\'[]\\+%'), None)"
   ]
  },
  {
   "cell_type": "code",
   "execution_count": 155,
   "metadata": {},
   "outputs": [
    {
     "data": {
      "text/plain": [
       "array([\"['fossil fuels: 78.1%\", 'nuclear: 0%', 'solar: 0.2%', 'wind: 0%',\n",
       "       'hydroelectricity: 21.7%', 'tide and wave: 0%', 'geothermal: 0%',\n",
       "       'biomass and waste: 0.1%', \"']\"], dtype='<U23')"
      ]
     },
     "execution_count": 155,
     "metadata": {},
     "output_type": "execute_result"
    }
   ],
   "source": [
    "elegensources[0]"
   ]
  },
  {
   "cell_type": "code",
   "execution_count": 156,
   "metadata": {},
   "outputs": [
    {
     "data": {
      "text/plain": [
       "'fossil fuels: 78.1'"
      ]
     },
     "execution_count": 156,
     "metadata": {},
     "output_type": "execute_result"
    }
   ],
   "source": [
    "# test translation table\n",
    "str(elegensources[0][0]).translate(translation_table)"
   ]
  },
  {
   "cell_type": "code",
   "execution_count": 157,
   "metadata": {},
   "outputs": [
    {
     "data": {
      "text/plain": [
       "[array([\"['fossil fuels: 78.1%\", 'nuclear: 0%', 'solar: 0.2%', 'wind: 0%',\n",
       "        'hydroelectricity: 21.7%', 'tide and wave: 0%', 'geothermal: 0%',\n",
       "        'biomass and waste: 0.1%', \"']\"], dtype='<U23'),\n",
       " array([\"['fossil fuels: 88.7%\", 'nuclear: 0%', 'solar: 1%', 'wind: 2.5%',\n",
       "        'hydroelectricity: 7.7%', 'tide and wave: 0%', 'geothermal: 0%',\n",
       "        'biomass and waste: 0.2%', \"']\"], dtype='<U23'),\n",
       " array([\"['fossil fuels: 87.9%\", 'nuclear: 5.2%', 'solar: 1.6%',\n",
       "        'wind: 2.6%', 'hydroelectricity: 2.5%', 'tide and wave: 0%',\n",
       "        'geothermal: 0%', 'biomass and waste: 0.2%', \"']\"], dtype='<U23'),\n",
       " array([\"['fossil fuels: 98.9%\", 'nuclear: 0%', 'solar: 0.9%', 'wind: 0%',\n",
       "        'hydroelectricity: 0.1%', 'tide and wave: 0%', 'geothermal: 0%',\n",
       "        'biomass and waste: 0%', \"']\"], dtype='<U22'),\n",
       " array([\"['fossil fuels: 81.6%\", 'nuclear: 0%', 'solar: 1.1%', 'wind: 13%',\n",
       "        'hydroelectricity: 4.4%', 'tide and wave: 0%', 'geothermal: 0%',\n",
       "        'biomass and waste: 0%', \"']\"], dtype='<U22'),\n",
       " array([\"['fossil fuels: 28.4%\", 'nuclear: 0%', 'solar: 0.1%', 'wind: 0%',\n",
       "        'hydroelectricity: 70.1%', 'tide and wave: 0%', 'geothermal: 0%',\n",
       "        'biomass and waste: 1.4%', \"']\"], dtype='<U23'),\n",
       " array([\"['fossil fuels: 8.3%\", 'nuclear: 0%', 'solar: 1%', 'wind: 10.7%',\n",
       "        'hydroelectricity: 32.6%', 'tide and wave: 0%',\n",
       "        'geothermal: 46.2%', 'biomass and waste: 1.2%', \"']\"], dtype='<U23'),\n",
       " array([\"['fossil fuels: 0%\", 'nuclear: 0%', 'solar: 0.1%', 'wind: 3.8%',\n",
       "        'hydroelectricity: 95.8%', 'tide and wave: 0%', 'geothermal: 0%',\n",
       "        'biomass and waste: 0.3%', \"']\"], dtype='<U23'),\n",
       " array([\"['fossil fuels: 65%\", 'nuclear: 0%', 'solar: 1.3%', 'wind: 0%',\n",
       "        'hydroelectricity: 32.8%', 'tide and wave: 0%', 'geothermal: 0%',\n",
       "        'biomass and waste: 1%', \"']\"], dtype='<U23'),\n",
       " array([\"['fossil fuels: 63.8%\", 'nuclear: 0%', 'solar: 0.3%', 'wind: 0%',\n",
       "        'hydroelectricity: 35.9%', 'tide and wave: 0%', 'geothermal: 0%',\n",
       "        'biomass and waste: 0.1%', \"']\"], dtype='<U23'),\n",
       " array([\"['fossil fuels: 75.6%\", 'nuclear: 0%', 'solar: 0.2%', 'wind: 0%',\n",
       "        'hydroelectricity: 24.2%', 'tide and wave: 0%', 'geothermal: 0%',\n",
       "        'biomass and waste: 0%', \"']\"], dtype='<U23'),\n",
       " array([\"['fossil fuels: 0.1%\", 'nuclear: 0%', 'solar: 0.1%', 'wind: 0%',\n",
       "        'hydroelectricity: 99.6%', 'tide and wave: 0%', 'geothermal: 0%',\n",
       "        'biomass and waste: 0.3%', \"']\"], dtype='<U23'),\n",
       " array([\"['fossil fuels: 1.3%\", 'nuclear: 0%', 'solar: 1.6%', 'wind: 0%',\n",
       "        'hydroelectricity: 86.4%', 'tide and wave: 0%', 'geothermal: 0%',\n",
       "        'biomass and waste: 10.8%', \"']\"], dtype='<U24'),\n",
       " array([\"['fossil fuels: 95.9%\", 'nuclear: 0%', 'solar: 1.3%',\n",
       "        'wind: 2.6%', 'hydroelectricity: 0.3%', 'tide and wave: 0%',\n",
       "        'geothermal: 0%', 'biomass and waste: 0%', \"']\"], dtype='<U22'),\n",
       " array([\"['fossil fuels: 32.5%\", 'nuclear: 0%', 'solar: 0.2%', 'wind: 0%',\n",
       "        'hydroelectricity: 67.3%', 'tide and wave: 0%', 'geothermal: 0%',\n",
       "        'biomass and waste: 0%', \"']\"], dtype='<U23'),\n",
       " array([\"['fossil fuels: 43.5%\", 'nuclear: 0%', 'solar: 0.1%', 'wind: 0%',\n",
       "        'hydroelectricity: 55.5%', 'tide and wave: 0%', 'geothermal: 0%',\n",
       "        'biomass and waste: 0.9%', \"']\"], dtype='<U23'),\n",
       " array([\"['fossil fuels: 100%\", 'nuclear: 0%', 'solar: 0%', 'wind: 0%',\n",
       "        'hydroelectricity: 0%', 'tide and wave: 0%', 'geothermal: 0%',\n",
       "        'biomass and waste: 0%', \"']\"], dtype='<U21'),\n",
       " array([\"['fossil fuels: 32.9%\", 'nuclear: 0%', 'solar: 0.1%', 'wind: 0%',\n",
       "        'hydroelectricity: 65.3%', 'tide and wave: 0%', 'geothermal: 0%',\n",
       "        'biomass and waste: 1.7%', \"']\"], dtype='<U23'),\n",
       " array([\"['fossil fuels: 84.8%\", 'nuclear: 0%', 'solar: 6%', 'wind: 0.5%',\n",
       "        'hydroelectricity: 6.3%', 'tide and wave: 0%', 'geothermal: 0%',\n",
       "        'biomass and waste: 2.4%', \"']\"], dtype='<U23'),\n",
       " array([\"['fossil fuels: 13%\", 'nuclear: 0%', 'solar: 0.9%', 'wind: 0%',\n",
       "        'hydroelectricity: 85.5%', 'tide and wave: 0%', 'geothermal: 0%',\n",
       "        'biomass and waste: 0.5%', \"']\"], dtype='<U23'),\n",
       " array([\"['fossil fuels: 40.6%\", 'nuclear: 0%', 'solar: 0.1%', 'wind: 0%',\n",
       "        'hydroelectricity: 59%', 'tide and wave: 0%', 'geothermal: 0%',\n",
       "        'biomass and waste: 0.3%', \"']\"], dtype='<U23'),\n",
       " array([\"['fossil fuels: 22.2%\", 'nuclear: 0%', 'solar: 0.7%', 'wind: 0%',\n",
       "        'hydroelectricity: 77.1%', 'tide and wave: 0%', 'geothermal: 0%',\n",
       "        'biomass and waste: 0%', \"']\"], dtype='<U23'),\n",
       " array([\"['fossil fuels: 67.4%\", 'nuclear: 0%', 'solar: 1%', 'wind: 0%',\n",
       "        'hydroelectricity: 29.7%', 'tide and wave: 0%', 'geothermal: 0%',\n",
       "        'biomass and waste: 1.9%', \"']\"], dtype='<U23'),\n",
       " array([\"['fossil fuels: 89.4%\", 'nuclear: 0%', 'solar: 3.3%', 'wind: 0%',\n",
       "        'hydroelectricity: 6.9%', 'tide and wave: 0%', 'geothermal: 0%',\n",
       "        'biomass and waste: 0.4%', \"']\"], dtype='<U23'),\n",
       " array([\"['fossil fuels: 99.8%\", 'nuclear: 0%', 'solar: 0.2%', 'wind: 0%',\n",
       "        'hydroelectricity: 0%', 'tide and wave: 0%', 'geothermal: 0%',\n",
       "        'biomass and waste: 0%', \"']\"], dtype='<U21'),\n",
       " array([\"['fossil fuels: 19.6%\", 'nuclear: 0%', 'solar: 0.2%', 'wind: 0%',\n",
       "        'hydroelectricity: 79.6%', 'tide and wave: 0%', 'geothermal: 0%',\n",
       "        'biomass and waste: 0.6%', \"']\"], dtype='<U23'),\n",
       " array([\"['fossil fuels: 96.9%\", 'nuclear: 0%', 'solar: 3.1%', 'wind: 0%',\n",
       "        'hydroelectricity: 0%', 'tide and wave: 0%', 'geothermal: 0%',\n",
       "        'biomass and waste: 0%', \"']\"], dtype='<U21'),\n",
       " array([\"['fossil fuels: 89.4%\", 'nuclear: 0%', 'solar: 0%', 'wind: 0%',\n",
       "        'hydroelectricity: 10.6%', 'tide and wave: 0%', 'geothermal: 0%',\n",
       "        'biomass and waste: 0%', \"']\"], dtype='<U23'),\n",
       " array([\"['fossil fuels: 59.8%\", 'nuclear: 0%', 'solar: 1.1%', 'wind: 0%',\n",
       "        'hydroelectricity: 38.2%', 'tide and wave: 0%', 'geothermal: 0%',\n",
       "        'biomass and waste: 1%', \"']\"], dtype='<U23'),\n",
       " array([\"['fossil fuels: 94.1%\", 'nuclear: 0%', 'solar: 5.9%', 'wind: 0%',\n",
       "        'hydroelectricity: 0%', 'tide and wave: 0%', 'geothermal: 0%',\n",
       "        'biomass and waste: 0%', \"']\"], dtype='<U21'),\n",
       " array([\"['fossil fuels: 70.1%\", 'nuclear: 0%', 'solar: 0%', 'wind: 0%',\n",
       "        'hydroelectricity: 29.9%', 'tide and wave: 0%', 'geothermal: 0%',\n",
       "        'biomass and waste: 0%', \"']\"], dtype='<U23'),\n",
       " array([\"['fossil fuels: 96.8%\", 'nuclear: 0%', 'solar: 0%', 'wind: 3.2%',\n",
       "        'hydroelectricity: 0%', 'tide and wave: 0%', 'geothermal: 0%',\n",
       "        'biomass and waste: 0%', \"']\"], dtype='<U21'),\n",
       " array([\"['fossil fuels: 6.1%\", 'nuclear: 0%', 'solar: 4.7%', 'wind: 0.5%',\n",
       "        'hydroelectricity: 88.8%', 'tide and wave: 0%', 'geothermal: 0%',\n",
       "        'biomass and waste: 0%', \"']\"], dtype='<U23'),\n",
       " array([\"['fossil fuels: 39%\", 'nuclear: 0%', 'solar: 6.5%', 'wind: 0%',\n",
       "        'hydroelectricity: 53.9%', 'tide and wave: 0%', 'geothermal: 0%',\n",
       "        'biomass and waste: 0.6%', \"']\"], dtype='<U23'),\n",
       " array([\"['fossil fuels: 11.8%\", 'nuclear: 0%', 'solar: 3.2%', 'wind: 0%',\n",
       "        'hydroelectricity: 81.9%', 'tide and wave: 0%', 'geothermal: 0%',\n",
       "        'biomass and waste: 3.2%', \"']\"], dtype='<U23'),\n",
       " array([\"['fossil fuels: 75.4%\", 'nuclear: 0%', 'solar: 5.3%',\n",
       "        'wind: 0.7%', 'hydroelectricity: 3.7%', 'tide and wave: 0%',\n",
       "        'geothermal: 0%', 'biomass and waste: 15%', \"']\"], dtype='<U22'),\n",
       " array([\"['fossil fuels: 73.2%\", 'nuclear: 0%', 'solar: 8.1%',\n",
       "        'wind: 6.8%', 'hydroelectricity: 11.9%', 'tide and wave: 0%',\n",
       "        'geothermal: 0%', 'biomass and waste: 0%', \"']\"], dtype='<U23'),\n",
       " array([\"['fossil fuels: 95.3%\", 'nuclear: 0%', 'solar: 3%', 'wind: 1.7%',\n",
       "        'hydroelectricity: 0%', 'tide and wave: 0%', 'geothermal: 0%',\n",
       "        'biomass and waste: 0%', \"']\"], dtype='<U21'),\n",
       " array([\"['fossil fuels: 82.2%\", 'nuclear: 0%', 'solar: 0.6%', 'wind: 0%',\n",
       "        'hydroelectricity: 17.2%', 'tide and wave: 0%', 'geothermal: 0%',\n",
       "        'biomass and waste: 0%', \"']\"], dtype='<U23'),\n",
       " array([\"['fossil fuels: 99.2%\", 'nuclear: 0%', 'solar: 0.8%', 'wind: 0%',\n",
       "        'hydroelectricity: 0%', 'tide and wave: 0%', 'geothermal: 0%',\n",
       "        'biomass and waste: 0%', \"']\"], dtype='<U21'),\n",
       " array([\"['fossil fuels: 44.1%\", 'nuclear: 0%', 'solar: 0.2%', 'wind: 0%',\n",
       "        'hydroelectricity: 24.8%', 'tide and wave: 0%', 'geothermal: 0%',\n",
       "        'biomass and waste: 31%', \"']\"], dtype='<U23'),\n",
       " array([\"['fossil fuels: 8.2%\", 'nuclear: 0%', 'solar: 2.9%', 'wind: 0%',\n",
       "        'hydroelectricity: 87%', 'tide and wave: 0%', 'geothermal: 0%',\n",
       "        'biomass and waste: 1.9%', \"']\"], dtype='<U23'),\n",
       " array([\"['fossil fuels: 40.5%\", 'nuclear: 0%', 'solar: 0.5%', 'wind: 0%',\n",
       "        'hydroelectricity: 59.1%', 'tide and wave: 0%', 'geothermal: 0%',\n",
       "        'biomass and waste: 0%', \"']\"], dtype='<U23'),\n",
       " array([\"['fossil fuels: 98.2%\", 'nuclear: 0%', 'solar: 1.8%', 'wind: 0%',\n",
       "        'hydroelectricity: 0%', 'tide and wave: 0%', 'geothermal: 0%',\n",
       "        'biomass and waste: 0%', \"']\"], dtype='<U21'),\n",
       " array([\"['fossil fuels: 33.3%\", 'nuclear: 0%', 'solar: 2.3%', 'wind: 0%',\n",
       "        'hydroelectricity: 62.8%', 'tide and wave: 0%', 'geothermal: 0%',\n",
       "        'biomass and waste: 1.7%', \"']\"], dtype='<U23'),\n",
       " array([\"['fossil fuels: 0%\", 'nuclear: 0%', 'solar: 0.2%', 'wind: 0%',\n",
       "        'hydroelectricity: 99.8%', 'tide and wave: 0%', 'geothermal: 0%',\n",
       "        'biomass and waste: 0%', \"']\"], dtype='<U23'),\n",
       " array([\"['fossil fuels: 0.7%\", 'nuclear: 0%', 'solar: 0%', 'wind: 0%',\n",
       "        'hydroelectricity: 99.3%', 'tide and wave: 0%', 'geothermal: 0%',\n",
       "        'biomass and waste: 0%', \"']\"], dtype='<U23'),\n",
       " array([\"['fossil fuels: 93.8%\", 'nuclear: 0%', 'solar: 5.7%',\n",
       "        'wind: 0.5%', 'hydroelectricity: 0%', 'tide and wave: 0%',\n",
       "        'geothermal: 0%', 'biomass and waste: 0%', \"']\"], dtype='<U21'),\n",
       " array([\"['fossil fuels: 98.9%\", 'nuclear: 0%', 'solar: 1%', 'wind: 0%',\n",
       "        'hydroelectricity: 0%', 'tide and wave: 0%', 'geothermal: 0%',\n",
       "        'biomass and waste: 0%', \"']\"], dtype='<U21'),\n",
       " array([\"['fossil fuels: 80.2%\", 'nuclear: 0%', 'solar: 2%', 'wind: 17.8%',\n",
       "        'hydroelectricity: 0%', 'tide and wave: 0%', 'geothermal: 0%',\n",
       "        'biomass and waste: 0%', \"']\"], dtype='<U21'),\n",
       " array([\"['fossil fuels: 99.1%\", 'nuclear: 0%', 'solar: 0.9%', 'wind: 0%',\n",
       "        'hydroelectricity: 0%', 'tide and wave: 0%', 'geothermal: 0%',\n",
       "        'biomass and waste: 0%', \"']\"], dtype='<U21'),\n",
       " array([\"['fossil fuels: 97.6%\", 'nuclear: 0%', 'solar: 2.4%', 'wind: 0%',\n",
       "        'hydroelectricity: 0%', 'tide and wave: 0%', 'geothermal: 0%',\n",
       "        'biomass and waste: 0%', \"']\"], dtype='<U21'),\n",
       " array([\"['fossil fuels: 100%\", 'nuclear: 0%', 'solar: 0%', 'wind: 0%',\n",
       "        'hydroelectricity: 0%', 'tide and wave: 0%', 'geothermal: 0%',\n",
       "        'biomass and waste: 0%', \"']\"], dtype='<U21'),\n",
       " array([\"['fossil fuels: 89.5%\", 'nuclear: 0%', 'solar: 0%', 'wind: 0%',\n",
       "        'hydroelectricity: 10.5%', 'tide and wave: 0%', 'geothermal: 0%',\n",
       "        'biomass and waste: 0%', \"']\"], dtype='<U23')]"
      ]
     },
     "execution_count": 157,
     "metadata": {},
     "output_type": "execute_result"
    }
   ],
   "source": [
    "elegensources"
   ]
  },
  {
   "cell_type": "code",
   "execution_count": 158,
   "metadata": {},
   "outputs": [],
   "source": [
    "# remove certain characters from our data\n",
    "elegensources=[[str(gensource[i]).translate(translation_table).split(' \\'') for i in range(len(gensource))] for gensource in elegensources]"
   ]
  },
  {
   "cell_type": "code",
   "execution_count": 159,
   "metadata": {},
   "outputs": [
    {
     "data": {
      "text/plain": [
       "[[['fossil fuels: 78.1'],\n",
       "  ['nuclear: 0'],\n",
       "  ['solar: 0.2'],\n",
       "  ['wind: 0'],\n",
       "  ['hydroelectricity: 21.7'],\n",
       "  ['tide and wave: 0'],\n",
       "  ['geothermal: 0'],\n",
       "  ['biomass and waste: 0.1'],\n",
       "  ['']],\n",
       " [['fossil fuels: 88.7'],\n",
       "  ['nuclear: 0'],\n",
       "  ['solar: 1'],\n",
       "  ['wind: 2.5'],\n",
       "  ['hydroelectricity: 7.7'],\n",
       "  ['tide and wave: 0'],\n",
       "  ['geothermal: 0'],\n",
       "  ['biomass and waste: 0.2'],\n",
       "  ['']],\n",
       " [['fossil fuels: 87.9'],\n",
       "  ['nuclear: 5.2'],\n",
       "  ['solar: 1.6'],\n",
       "  ['wind: 2.6'],\n",
       "  ['hydroelectricity: 2.5'],\n",
       "  ['tide and wave: 0'],\n",
       "  ['geothermal: 0'],\n",
       "  ['biomass and waste: 0.2'],\n",
       "  ['']],\n",
       " [['fossil fuels: 98.9'],\n",
       "  ['nuclear: 0'],\n",
       "  ['solar: 0.9'],\n",
       "  ['wind: 0'],\n",
       "  ['hydroelectricity: 0.1'],\n",
       "  ['tide and wave: 0'],\n",
       "  ['geothermal: 0'],\n",
       "  ['biomass and waste: 0'],\n",
       "  ['']],\n",
       " [['fossil fuels: 81.6'],\n",
       "  ['nuclear: 0'],\n",
       "  ['solar: 1.1'],\n",
       "  ['wind: 13'],\n",
       "  ['hydroelectricity: 4.4'],\n",
       "  ['tide and wave: 0'],\n",
       "  ['geothermal: 0'],\n",
       "  ['biomass and waste: 0'],\n",
       "  ['']],\n",
       " [['fossil fuels: 28.4'],\n",
       "  ['nuclear: 0'],\n",
       "  ['solar: 0.1'],\n",
       "  ['wind: 0'],\n",
       "  ['hydroelectricity: 70.1'],\n",
       "  ['tide and wave: 0'],\n",
       "  ['geothermal: 0'],\n",
       "  ['biomass and waste: 1.4'],\n",
       "  ['']],\n",
       " [['fossil fuels: 8.3'],\n",
       "  ['nuclear: 0'],\n",
       "  ['solar: 1'],\n",
       "  ['wind: 10.7'],\n",
       "  ['hydroelectricity: 32.6'],\n",
       "  ['tide and wave: 0'],\n",
       "  ['geothermal: 46.2'],\n",
       "  ['biomass and waste: 1.2'],\n",
       "  ['']],\n",
       " [['fossil fuels: 0'],\n",
       "  ['nuclear: 0'],\n",
       "  ['solar: 0.1'],\n",
       "  ['wind: 3.8'],\n",
       "  ['hydroelectricity: 95.8'],\n",
       "  ['tide and wave: 0'],\n",
       "  ['geothermal: 0'],\n",
       "  ['biomass and waste: 0.3'],\n",
       "  ['']],\n",
       " [['fossil fuels: 65'],\n",
       "  ['nuclear: 0'],\n",
       "  ['solar: 1.3'],\n",
       "  ['wind: 0'],\n",
       "  ['hydroelectricity: 32.8'],\n",
       "  ['tide and wave: 0'],\n",
       "  ['geothermal: 0'],\n",
       "  ['biomass and waste: 1'],\n",
       "  ['']],\n",
       " [['fossil fuels: 63.8'],\n",
       "  ['nuclear: 0'],\n",
       "  ['solar: 0.3'],\n",
       "  ['wind: 0'],\n",
       "  ['hydroelectricity: 35.9'],\n",
       "  ['tide and wave: 0'],\n",
       "  ['geothermal: 0'],\n",
       "  ['biomass and waste: 0.1'],\n",
       "  ['']],\n",
       " [['fossil fuels: 75.6'],\n",
       "  ['nuclear: 0'],\n",
       "  ['solar: 0.2'],\n",
       "  ['wind: 0'],\n",
       "  ['hydroelectricity: 24.2'],\n",
       "  ['tide and wave: 0'],\n",
       "  ['geothermal: 0'],\n",
       "  ['biomass and waste: 0'],\n",
       "  ['']],\n",
       " [['fossil fuels: 0.1'],\n",
       "  ['nuclear: 0'],\n",
       "  ['solar: 0.1'],\n",
       "  ['wind: 0'],\n",
       "  ['hydroelectricity: 99.6'],\n",
       "  ['tide and wave: 0'],\n",
       "  ['geothermal: 0'],\n",
       "  ['biomass and waste: 0.3'],\n",
       "  ['']],\n",
       " [['fossil fuels: 1.3'],\n",
       "  ['nuclear: 0'],\n",
       "  ['solar: 1.6'],\n",
       "  ['wind: 0'],\n",
       "  ['hydroelectricity: 86.4'],\n",
       "  ['tide and wave: 0'],\n",
       "  ['geothermal: 0'],\n",
       "  ['biomass and waste: 10.8'],\n",
       "  ['']],\n",
       " [['fossil fuels: 95.9'],\n",
       "  ['nuclear: 0'],\n",
       "  ['solar: 1.3'],\n",
       "  ['wind: 2.6'],\n",
       "  ['hydroelectricity: 0.3'],\n",
       "  ['tide and wave: 0'],\n",
       "  ['geothermal: 0'],\n",
       "  ['biomass and waste: 0'],\n",
       "  ['']],\n",
       " [['fossil fuels: 32.5'],\n",
       "  ['nuclear: 0'],\n",
       "  ['solar: 0.2'],\n",
       "  ['wind: 0'],\n",
       "  ['hydroelectricity: 67.3'],\n",
       "  ['tide and wave: 0'],\n",
       "  ['geothermal: 0'],\n",
       "  ['biomass and waste: 0'],\n",
       "  ['']],\n",
       " [['fossil fuels: 43.5'],\n",
       "  ['nuclear: 0'],\n",
       "  ['solar: 0.1'],\n",
       "  ['wind: 0'],\n",
       "  ['hydroelectricity: 55.5'],\n",
       "  ['tide and wave: 0'],\n",
       "  ['geothermal: 0'],\n",
       "  ['biomass and waste: 0.9'],\n",
       "  ['']],\n",
       " [['fossil fuels: 100'],\n",
       "  ['nuclear: 0'],\n",
       "  ['solar: 0'],\n",
       "  ['wind: 0'],\n",
       "  ['hydroelectricity: 0'],\n",
       "  ['tide and wave: 0'],\n",
       "  ['geothermal: 0'],\n",
       "  ['biomass and waste: 0'],\n",
       "  ['']],\n",
       " [['fossil fuels: 32.9'],\n",
       "  ['nuclear: 0'],\n",
       "  ['solar: 0.1'],\n",
       "  ['wind: 0'],\n",
       "  ['hydroelectricity: 65.3'],\n",
       "  ['tide and wave: 0'],\n",
       "  ['geothermal: 0'],\n",
       "  ['biomass and waste: 1.7'],\n",
       "  ['']],\n",
       " [['fossil fuels: 84.8'],\n",
       "  ['nuclear: 0'],\n",
       "  ['solar: 6'],\n",
       "  ['wind: 0.5'],\n",
       "  ['hydroelectricity: 6.3'],\n",
       "  ['tide and wave: 0'],\n",
       "  ['geothermal: 0'],\n",
       "  ['biomass and waste: 2.4'],\n",
       "  ['']],\n",
       " [['fossil fuels: 13'],\n",
       "  ['nuclear: 0'],\n",
       "  ['solar: 0.9'],\n",
       "  ['wind: 0'],\n",
       "  ['hydroelectricity: 85.5'],\n",
       "  ['tide and wave: 0'],\n",
       "  ['geothermal: 0'],\n",
       "  ['biomass and waste: 0.5'],\n",
       "  ['']],\n",
       " [['fossil fuels: 40.6'],\n",
       "  ['nuclear: 0'],\n",
       "  ['solar: 0.1'],\n",
       "  ['wind: 0'],\n",
       "  ['hydroelectricity: 59'],\n",
       "  ['tide and wave: 0'],\n",
       "  ['geothermal: 0'],\n",
       "  ['biomass and waste: 0.3'],\n",
       "  ['']],\n",
       " [['fossil fuels: 22.2'],\n",
       "  ['nuclear: 0'],\n",
       "  ['solar: 0.7'],\n",
       "  ['wind: 0'],\n",
       "  ['hydroelectricity: 77.1'],\n",
       "  ['tide and wave: 0'],\n",
       "  ['geothermal: 0'],\n",
       "  ['biomass and waste: 0'],\n",
       "  ['']],\n",
       " [['fossil fuels: 67.4'],\n",
       "  ['nuclear: 0'],\n",
       "  ['solar: 1'],\n",
       "  ['wind: 0'],\n",
       "  ['hydroelectricity: 29.7'],\n",
       "  ['tide and wave: 0'],\n",
       "  ['geothermal: 0'],\n",
       "  ['biomass and waste: 1.9'],\n",
       "  ['']],\n",
       " [['fossil fuels: 89.4'],\n",
       "  ['nuclear: 0'],\n",
       "  ['solar: 3.3'],\n",
       "  ['wind: 0'],\n",
       "  ['hydroelectricity: 6.9'],\n",
       "  ['tide and wave: 0'],\n",
       "  ['geothermal: 0'],\n",
       "  ['biomass and waste: 0.4'],\n",
       "  ['']],\n",
       " [['fossil fuels: 99.8'],\n",
       "  ['nuclear: 0'],\n",
       "  ['solar: 0.2'],\n",
       "  ['wind: 0'],\n",
       "  ['hydroelectricity: 0'],\n",
       "  ['tide and wave: 0'],\n",
       "  ['geothermal: 0'],\n",
       "  ['biomass and waste: 0'],\n",
       "  ['']],\n",
       " [['fossil fuels: 19.6'],\n",
       "  ['nuclear: 0'],\n",
       "  ['solar: 0.2'],\n",
       "  ['wind: 0'],\n",
       "  ['hydroelectricity: 79.6'],\n",
       "  ['tide and wave: 0'],\n",
       "  ['geothermal: 0'],\n",
       "  ['biomass and waste: 0.6'],\n",
       "  ['']],\n",
       " [['fossil fuels: 96.9'],\n",
       "  ['nuclear: 0'],\n",
       "  ['solar: 3.1'],\n",
       "  ['wind: 0'],\n",
       "  ['hydroelectricity: 0'],\n",
       "  ['tide and wave: 0'],\n",
       "  ['geothermal: 0'],\n",
       "  ['biomass and waste: 0'],\n",
       "  ['']],\n",
       " [['fossil fuels: 89.4'],\n",
       "  ['nuclear: 0'],\n",
       "  ['solar: 0'],\n",
       "  ['wind: 0'],\n",
       "  ['hydroelectricity: 10.6'],\n",
       "  ['tide and wave: 0'],\n",
       "  ['geothermal: 0'],\n",
       "  ['biomass and waste: 0'],\n",
       "  ['']],\n",
       " [['fossil fuels: 59.8'],\n",
       "  ['nuclear: 0'],\n",
       "  ['solar: 1.1'],\n",
       "  ['wind: 0'],\n",
       "  ['hydroelectricity: 38.2'],\n",
       "  ['tide and wave: 0'],\n",
       "  ['geothermal: 0'],\n",
       "  ['biomass and waste: 1'],\n",
       "  ['']],\n",
       " [['fossil fuels: 94.1'],\n",
       "  ['nuclear: 0'],\n",
       "  ['solar: 5.9'],\n",
       "  ['wind: 0'],\n",
       "  ['hydroelectricity: 0'],\n",
       "  ['tide and wave: 0'],\n",
       "  ['geothermal: 0'],\n",
       "  ['biomass and waste: 0'],\n",
       "  ['']],\n",
       " [['fossil fuels: 70.1'],\n",
       "  ['nuclear: 0'],\n",
       "  ['solar: 0'],\n",
       "  ['wind: 0'],\n",
       "  ['hydroelectricity: 29.9'],\n",
       "  ['tide and wave: 0'],\n",
       "  ['geothermal: 0'],\n",
       "  ['biomass and waste: 0'],\n",
       "  ['']],\n",
       " [['fossil fuels: 96.8'],\n",
       "  ['nuclear: 0'],\n",
       "  ['solar: 0'],\n",
       "  ['wind: 3.2'],\n",
       "  ['hydroelectricity: 0'],\n",
       "  ['tide and wave: 0'],\n",
       "  ['geothermal: 0'],\n",
       "  ['biomass and waste: 0'],\n",
       "  ['']],\n",
       " [['fossil fuels: 6.1'],\n",
       "  ['nuclear: 0'],\n",
       "  ['solar: 4.7'],\n",
       "  ['wind: 0.5'],\n",
       "  ['hydroelectricity: 88.8'],\n",
       "  ['tide and wave: 0'],\n",
       "  ['geothermal: 0'],\n",
       "  ['biomass and waste: 0'],\n",
       "  ['']],\n",
       " [['fossil fuels: 39'],\n",
       "  ['nuclear: 0'],\n",
       "  ['solar: 6.5'],\n",
       "  ['wind: 0'],\n",
       "  ['hydroelectricity: 53.9'],\n",
       "  ['tide and wave: 0'],\n",
       "  ['geothermal: 0'],\n",
       "  ['biomass and waste: 0.6'],\n",
       "  ['']],\n",
       " [['fossil fuels: 11.8'],\n",
       "  ['nuclear: 0'],\n",
       "  ['solar: 3.2'],\n",
       "  ['wind: 0'],\n",
       "  ['hydroelectricity: 81.9'],\n",
       "  ['tide and wave: 0'],\n",
       "  ['geothermal: 0'],\n",
       "  ['biomass and waste: 3.2'],\n",
       "  ['']],\n",
       " [['fossil fuels: 75.4'],\n",
       "  ['nuclear: 0'],\n",
       "  ['solar: 5.3'],\n",
       "  ['wind: 0.7'],\n",
       "  ['hydroelectricity: 3.7'],\n",
       "  ['tide and wave: 0'],\n",
       "  ['geothermal: 0'],\n",
       "  ['biomass and waste: 15'],\n",
       "  ['']],\n",
       " [['fossil fuels: 73.2'],\n",
       "  ['nuclear: 0'],\n",
       "  ['solar: 8.1'],\n",
       "  ['wind: 6.8'],\n",
       "  ['hydroelectricity: 11.9'],\n",
       "  ['tide and wave: 0'],\n",
       "  ['geothermal: 0'],\n",
       "  ['biomass and waste: 0'],\n",
       "  ['']],\n",
       " [['fossil fuels: 95.3'],\n",
       "  ['nuclear: 0'],\n",
       "  ['solar: 3'],\n",
       "  ['wind: 1.7'],\n",
       "  ['hydroelectricity: 0'],\n",
       "  ['tide and wave: 0'],\n",
       "  ['geothermal: 0'],\n",
       "  ['biomass and waste: 0'],\n",
       "  ['']],\n",
       " [['fossil fuels: 82.2'],\n",
       "  ['nuclear: 0'],\n",
       "  ['solar: 0.6'],\n",
       "  ['wind: 0'],\n",
       "  ['hydroelectricity: 17.2'],\n",
       "  ['tide and wave: 0'],\n",
       "  ['geothermal: 0'],\n",
       "  ['biomass and waste: 0'],\n",
       "  ['']],\n",
       " [['fossil fuels: 99.2'],\n",
       "  ['nuclear: 0'],\n",
       "  ['solar: 0.8'],\n",
       "  ['wind: 0'],\n",
       "  ['hydroelectricity: 0'],\n",
       "  ['tide and wave: 0'],\n",
       "  ['geothermal: 0'],\n",
       "  ['biomass and waste: 0'],\n",
       "  ['']],\n",
       " [['fossil fuels: 44.1'],\n",
       "  ['nuclear: 0'],\n",
       "  ['solar: 0.2'],\n",
       "  ['wind: 0'],\n",
       "  ['hydroelectricity: 24.8'],\n",
       "  ['tide and wave: 0'],\n",
       "  ['geothermal: 0'],\n",
       "  ['biomass and waste: 31'],\n",
       "  ['']],\n",
       " [['fossil fuels: 8.2'],\n",
       "  ['nuclear: 0'],\n",
       "  ['solar: 2.9'],\n",
       "  ['wind: 0'],\n",
       "  ['hydroelectricity: 87'],\n",
       "  ['tide and wave: 0'],\n",
       "  ['geothermal: 0'],\n",
       "  ['biomass and waste: 1.9'],\n",
       "  ['']],\n",
       " [['fossil fuels: 40.5'],\n",
       "  ['nuclear: 0'],\n",
       "  ['solar: 0.5'],\n",
       "  ['wind: 0'],\n",
       "  ['hydroelectricity: 59.1'],\n",
       "  ['tide and wave: 0'],\n",
       "  ['geothermal: 0'],\n",
       "  ['biomass and waste: 0'],\n",
       "  ['']],\n",
       " [['fossil fuels: 98.2'],\n",
       "  ['nuclear: 0'],\n",
       "  ['solar: 1.8'],\n",
       "  ['wind: 0'],\n",
       "  ['hydroelectricity: 0'],\n",
       "  ['tide and wave: 0'],\n",
       "  ['geothermal: 0'],\n",
       "  ['biomass and waste: 0'],\n",
       "  ['']],\n",
       " [['fossil fuels: 33.3'],\n",
       "  ['nuclear: 0'],\n",
       "  ['solar: 2.3'],\n",
       "  ['wind: 0'],\n",
       "  ['hydroelectricity: 62.8'],\n",
       "  ['tide and wave: 0'],\n",
       "  ['geothermal: 0'],\n",
       "  ['biomass and waste: 1.7'],\n",
       "  ['']],\n",
       " [['fossil fuels: 0'],\n",
       "  ['nuclear: 0'],\n",
       "  ['solar: 0.2'],\n",
       "  ['wind: 0'],\n",
       "  ['hydroelectricity: 99.8'],\n",
       "  ['tide and wave: 0'],\n",
       "  ['geothermal: 0'],\n",
       "  ['biomass and waste: 0'],\n",
       "  ['']],\n",
       " [['fossil fuels: 0.7'],\n",
       "  ['nuclear: 0'],\n",
       "  ['solar: 0'],\n",
       "  ['wind: 0'],\n",
       "  ['hydroelectricity: 99.3'],\n",
       "  ['tide and wave: 0'],\n",
       "  ['geothermal: 0'],\n",
       "  ['biomass and waste: 0'],\n",
       "  ['']],\n",
       " [['fossil fuels: 93.8'],\n",
       "  ['nuclear: 0'],\n",
       "  ['solar: 5.7'],\n",
       "  ['wind: 0.5'],\n",
       "  ['hydroelectricity: 0'],\n",
       "  ['tide and wave: 0'],\n",
       "  ['geothermal: 0'],\n",
       "  ['biomass and waste: 0'],\n",
       "  ['']],\n",
       " [['fossil fuels: 98.9'],\n",
       "  ['nuclear: 0'],\n",
       "  ['solar: 1'],\n",
       "  ['wind: 0'],\n",
       "  ['hydroelectricity: 0'],\n",
       "  ['tide and wave: 0'],\n",
       "  ['geothermal: 0'],\n",
       "  ['biomass and waste: 0'],\n",
       "  ['']],\n",
       " [['fossil fuels: 80.2'],\n",
       "  ['nuclear: 0'],\n",
       "  ['solar: 2'],\n",
       "  ['wind: 17.8'],\n",
       "  ['hydroelectricity: 0'],\n",
       "  ['tide and wave: 0'],\n",
       "  ['geothermal: 0'],\n",
       "  ['biomass and waste: 0'],\n",
       "  ['']],\n",
       " [['fossil fuels: 99.1'],\n",
       "  ['nuclear: 0'],\n",
       "  ['solar: 0.9'],\n",
       "  ['wind: 0'],\n",
       "  ['hydroelectricity: 0'],\n",
       "  ['tide and wave: 0'],\n",
       "  ['geothermal: 0'],\n",
       "  ['biomass and waste: 0'],\n",
       "  ['']],\n",
       " [['fossil fuels: 97.6'],\n",
       "  ['nuclear: 0'],\n",
       "  ['solar: 2.4'],\n",
       "  ['wind: 0'],\n",
       "  ['hydroelectricity: 0'],\n",
       "  ['tide and wave: 0'],\n",
       "  ['geothermal: 0'],\n",
       "  ['biomass and waste: 0'],\n",
       "  ['']],\n",
       " [['fossil fuels: 100'],\n",
       "  ['nuclear: 0'],\n",
       "  ['solar: 0'],\n",
       "  ['wind: 0'],\n",
       "  ['hydroelectricity: 0'],\n",
       "  ['tide and wave: 0'],\n",
       "  ['geothermal: 0'],\n",
       "  ['biomass and waste: 0'],\n",
       "  ['']],\n",
       " [['fossil fuels: 89.5'],\n",
       "  ['nuclear: 0'],\n",
       "  ['solar: 0'],\n",
       "  ['wind: 0'],\n",
       "  ['hydroelectricity: 10.5'],\n",
       "  ['tide and wave: 0'],\n",
       "  ['geothermal: 0'],\n",
       "  ['biomass and waste: 0'],\n",
       "  ['']]]"
      ]
     },
     "execution_count": 159,
     "metadata": {},
     "output_type": "execute_result"
    }
   ],
   "source": [
    "# these are the electricity generation sources in the format (source: percent)\n",
    "elegensources"
   ]
  },
  {
   "cell_type": "code",
   "execution_count": 160,
   "metadata": {},
   "outputs": [
    {
     "data": {
      "text/plain": [
       "54"
      ]
     },
     "execution_count": 160,
     "metadata": {},
     "output_type": "execute_result"
    }
   ],
   "source": [
    "len(elegensources)"
   ]
  },
  {
   "cell_type": "code",
   "execution_count": 161,
   "metadata": {},
   "outputs": [
    {
     "data": {
      "text/plain": [
       "[['fossil fuels: 93.8'],\n",
       " ['nuclear: 0'],\n",
       " ['solar: 5.7'],\n",
       " ['wind: 0.5'],\n",
       " ['hydroelectricity: 0'],\n",
       " ['tide and wave: 0'],\n",
       " ['geothermal: 0'],\n",
       " ['biomass and waste: 0'],\n",
       " ['']]"
      ]
     },
     "execution_count": 161,
     "metadata": {},
     "output_type": "execute_result"
    }
   ],
   "source": [
    "# pop country 47 and 39\n",
    "elegensources.pop(47)"
   ]
  },
  {
   "cell_type": "code",
   "execution_count": 162,
   "metadata": {},
   "outputs": [
    {
     "data": {
      "text/plain": [
       "[['fossil fuels: 99.2'],\n",
       " ['nuclear: 0'],\n",
       " ['solar: 0.8'],\n",
       " ['wind: 0'],\n",
       " ['hydroelectricity: 0'],\n",
       " ['tide and wave: 0'],\n",
       " ['geothermal: 0'],\n",
       " ['biomass and waste: 0'],\n",
       " ['']]"
      ]
     },
     "execution_count": 162,
     "metadata": {},
     "output_type": "execute_result"
    }
   ],
   "source": [
    "elegensources.pop(39)"
   ]
  },
  {
   "cell_type": "code",
   "execution_count": 163,
   "metadata": {},
   "outputs": [
    {
     "data": {
      "text/plain": [
       "[['fossil fuels: 8.2'],\n",
       " ['nuclear: 0'],\n",
       " ['solar: 2.9'],\n",
       " ['wind: 0'],\n",
       " ['hydroelectricity: 87'],\n",
       " ['tide and wave: 0'],\n",
       " ['geothermal: 0'],\n",
       " ['biomass and waste: 1.9'],\n",
       " ['']]"
      ]
     },
     "execution_count": 163,
     "metadata": {},
     "output_type": "execute_result"
    }
   ],
   "source": [
    "elegensources[40]"
   ]
  },
  {
   "cell_type": "code",
   "execution_count": 164,
   "metadata": {},
   "outputs": [
    {
     "data": {
      "text/plain": [
       "9"
      ]
     },
     "execution_count": 164,
     "metadata": {},
     "output_type": "execute_result"
    }
   ],
   "source": [
    "len(elegensources[0])"
   ]
  },
  {
   "cell_type": "code",
   "execution_count": 165,
   "metadata": {},
   "outputs": [],
   "source": [
    "# let's get all the percents from elegensources\n",
    "percents=[[percent[0].split(': ')[1].split(' ')[0] for percent in elegensources[i][:8]] for i in range(len(elegensources))]"
   ]
  },
  {
   "cell_type": "code",
   "execution_count": 166,
   "metadata": {},
   "outputs": [
    {
     "data": {
      "text/plain": [
       "['78.1', '0', '0.2', '0', '21.7', '0', '0', '0.1']"
      ]
     },
     "execution_count": 166,
     "metadata": {},
     "output_type": "execute_result"
    }
   ],
   "source": [
    "percents[0]"
   ]
  },
  {
   "cell_type": "code",
   "execution_count": 167,
   "metadata": {},
   "outputs": [
    {
     "data": {
      "text/plain": [
       "52"
      ]
     },
     "execution_count": 167,
     "metadata": {},
     "output_type": "execute_result"
    }
   ],
   "source": [
    "len(percents)"
   ]
  },
  {
   "cell_type": "code",
   "execution_count": 168,
   "metadata": {},
   "outputs": [
    {
     "data": {
      "text/plain": [
       "52"
      ]
     },
     "execution_count": 168,
     "metadata": {},
     "output_type": "execute_result"
    }
   ],
   "source": [
    "len(gdplist)"
   ]
  },
  {
   "cell_type": "markdown",
   "metadata": {},
   "source": [
    "### Of total installed capacity?"
   ]
  },
  {
   "cell_type": "markdown",
   "metadata": {},
   "source": [
    "Now, we have all the electricity generation sources, alongside the percentage they contribute to the *total installed capacity*. But what is the *total installed capacity*? This is a question we might want to answer, especially when creating our visualizations."
   ]
  },
  {
   "cell_type": "code",
   "execution_count": 169,
   "metadata": {},
   "outputs": [
    {
     "data": {
      "text/plain": [
       "'11.691 million kW'"
      ]
     },
     "execution_count": 169,
     "metadata": {},
     "output_type": "execute_result"
    }
   ],
   "source": [
    "df['Energy: Electricity'][0].split(' (20')[0][33:]"
   ]
  },
  {
   "cell_type": "code",
   "execution_count": 170,
   "metadata": {},
   "outputs": [],
   "source": [
    "capacity=[str(df['Energy: Electricity'][i].split(' (20')[0][33:]) for i in range(len(np.hstack(df['Energy: Electricity'])))]"
   ]
  },
  {
   "cell_type": "code",
   "execution_count": 171,
   "metadata": {},
   "outputs": [
    {
     "data": {
      "text/plain": [
       "['11.691 million kW',\n",
       " '59.826 million kW',\n",
       " '62.728 million kW',\n",
       " '21.694 million kW',\n",
       " '14.187 million kW',\n",
       " '7.344 million kW',\n",
       " '3.304 million kW',\n",
       " '4.856 million kW',\n",
       " '1.623 million kW',\n",
       " '5.312 million kW',\n",
       " '2.197 million kW',\n",
       " '2.919 million kW',\n",
       " '2.397 million kW',\n",
       " '5.777 million kW',\n",
       " '1.754 million kW',\n",
       " '4.354 million kW',\n",
       " '10.516 million kW',\n",
       " '2.473 million kW',\n",
       " '1.312 million kW',\n",
       " '3.065 million kW',\n",
       " '784,000 kW',\n",
       " '992,000 kW',\n",
       " '890,000 kW',\n",
       " '392,000 kW',\n",
       " '766,000 kW',\n",
       " '2.765 million kW',\n",
       " '475,000 kW',\n",
       " '349,000 kW',\n",
       " '587,000 kW',\n",
       " '324,000 kW',\n",
       " '629,000 kW',\n",
       " '87,000 kW',\n",
       " '640,000 kW',\n",
       " '265,000 kW',\n",
       " '618,000 kW',\n",
       " '936,000 kW',\n",
       " '656,000 kW',\n",
       " '91,000 kW',\n",
       " '210,000 kW',\n",
       " '121,000 kW',\n",
       " '286,000 kW',\n",
       " '180,000 kW',\n",
       " '196,000 kW',\n",
       " '130,000 kW',\n",
       " '100,000 kW',\n",
       " '74,000 kW',\n",
       " '38,000 kW',\n",
       " '228,000 kW',\n",
       " '137,000 kW',\n",
       " '205,000 kW',\n",
       " '157,000 kW',\n",
       " '28,000 kW',\n",
       " '35,000 kW',\n",
       " '28,000 kW']"
      ]
     },
     "execution_count": 171,
     "metadata": {},
     "output_type": "execute_result"
    }
   ],
   "source": [
    "capacity"
   ]
  },
  {
   "cell_type": "code",
   "execution_count": 172,
   "metadata": {},
   "outputs": [
    {
     "data": {
      "text/plain": [
       "'11.691'"
      ]
     },
     "execution_count": 172,
     "metadata": {},
     "output_type": "execute_result"
    }
   ],
   "source": [
    "capacity[0].split(' million')[0]"
   ]
  },
  {
   "cell_type": "code",
   "execution_count": 173,
   "metadata": {},
   "outputs": [],
   "source": [
    "# replace the words 'million' with digits (10**6)\n",
    "newcapa=[]\n",
    "for capa in capacity:\n",
    " if 'million' in capa:\n",
    "    new = float(capa.split(' million')[0])*10**6\n",
    "    newcapa.append(new)\n",
    " else:\n",
    "    new = float(capa.replace(\",\",\"\").split(' kW')[0])\n",
    "    newcapa.append(new)\n",
    "capacity=newcapa"
   ]
  },
  {
   "cell_type": "code",
   "execution_count": 174,
   "metadata": {},
   "outputs": [
    {
     "data": {
      "text/plain": [
       "228000.0"
      ]
     },
     "execution_count": 174,
     "metadata": {},
     "output_type": "execute_result"
    }
   ],
   "source": [
    "# pop country 47 and 39\n",
    "capacity.pop(47)"
   ]
  },
  {
   "cell_type": "code",
   "execution_count": 175,
   "metadata": {},
   "outputs": [
    {
     "data": {
      "text/plain": [
       "121000.0"
      ]
     },
     "execution_count": 175,
     "metadata": {},
     "output_type": "execute_result"
    }
   ],
   "source": [
    "capacity.pop(39)"
   ]
  },
  {
   "cell_type": "code",
   "execution_count": 176,
   "metadata": {},
   "outputs": [
    {
     "data": {
      "text/plain": [
       "[11691000.0,\n",
       " 59826000.0,\n",
       " 62728000.0,\n",
       " 21694000.0,\n",
       " 14187000.0,\n",
       " 7344000.0,\n",
       " 3304000.0,\n",
       " 4856000.0,\n",
       " 1623000.0,\n",
       " 5312000.0,\n",
       " 2197000.0,\n",
       " 2919000.0,\n",
       " 2397000.0,\n",
       " 5777000.0,\n",
       " 1754000.0,\n",
       " 4354000.0,\n",
       " 10516000.0,\n",
       " 2473000.0,\n",
       " 1312000.0,\n",
       " 3065000.0,\n",
       " 784000.0,\n",
       " 992000.0,\n",
       " 890000.0,\n",
       " 392000.0,\n",
       " 766000.0,\n",
       " 2765000.0,\n",
       " 475000.0,\n",
       " 349000.0,\n",
       " 587000.0,\n",
       " 324000.0,\n",
       " 629000.0,\n",
       " 87000.0,\n",
       " 640000.0,\n",
       " 265000.0,\n",
       " 618000.0,\n",
       " 936000.0,\n",
       " 656000.0,\n",
       " 91000.0,\n",
       " 210000.0,\n",
       " 286000.0,\n",
       " 180000.0,\n",
       " 196000.0,\n",
       " 130000.0,\n",
       " 100000.0,\n",
       " 74000.0,\n",
       " 38000.0,\n",
       " 137000.0,\n",
       " 205000.0,\n",
       " 157000.0,\n",
       " 28000.0,\n",
       " 35000.0,\n",
       " 28000.0]"
      ]
     },
     "execution_count": 176,
     "metadata": {},
     "output_type": "execute_result"
    }
   ],
   "source": [
    "capacity"
   ]
  },
  {
   "cell_type": "code",
   "execution_count": 177,
   "metadata": {},
   "outputs": [
    {
     "data": {
      "text/plain": [
       "52"
      ]
     },
     "execution_count": 177,
     "metadata": {},
     "output_type": "execute_result"
    }
   ],
   "source": [
    "len(capacity)"
   ]
  },
  {
   "cell_type": "markdown",
   "metadata": {},
   "source": [
    "### Get our data together"
   ]
  },
  {
   "cell_type": "code",
   "execution_count": 178,
   "metadata": {},
   "outputs": [],
   "source": [
    "for i in range(len(gdplist)):\n",
    "   percents[i].insert(0,str(capacity[i]))\n",
    "   percents[i].insert(0,gdplist[i]) "
   ]
  },
  {
   "cell_type": "code",
   "execution_count": 179,
   "metadata": {},
   "outputs": [
    {
     "data": {
      "text/plain": [
       "['4,900', '11691000.0', '78.1', '0', '0.2', '0', '21.7', '0', '0', '0.1']"
      ]
     },
     "execution_count": 179,
     "metadata": {},
     "output_type": "execute_result"
    }
   ],
   "source": [
    "percents[0]"
   ]
  },
  {
   "cell_type": "code",
   "execution_count": 180,
   "metadata": {},
   "outputs": [],
   "source": [
    "data=[[float(percent.translate(translation_table)) for percent in egn] for egn in percents]"
   ]
  },
  {
   "cell_type": "code",
   "execution_count": 181,
   "metadata": {},
   "outputs": [
    {
     "data": {
      "text/plain": [
       "[[4900.0, 11691000.0, 78.1, 0.0, 0.2, 0.0, 21.7, 0.0, 0.0, 0.1],\n",
       " [12000.0, 59826000.0, 88.7, 0.0, 1.0, 2.5, 7.7, 0.0, 0.0, 0.2],\n",
       " [11500.0, 62728000.0, 87.9, 5.2, 1.6, 2.6, 2.5, 0.0, 0.0, 0.2],\n",
       " [10700.0, 21694000.0, 98.9, 0.0, 0.9, 0.0, 0.1, 0.0, 0.0, 0.0],\n",
       " [6900.0, 14187000.0, 81.6, 0.0, 1.1, 13.0, 4.4, 0.0, 0.0, 0.0],\n",
       " [6200.0, 7344000.0, 28.4, 0.0, 0.1, 0.0, 70.1, 0.0, 0.0, 1.4],\n",
       " [4200.0, 3304000.0, 8.3, 0.0, 1.0, 10.7, 32.6, 0.0, 46.2, 1.2],\n",
       " [2300.0, 4856000.0, 0.0, 0.0, 0.1, 3.8, 95.8, 0.0, 0.0, 0.3],\n",
       " [2600.0, 1623000.0, 65.0, 0.0, 1.3, 0.0, 32.8, 0.0, 0.0, 1.0],\n",
       " [5300.0, 5312000.0, 63.8, 0.0, 0.3, 0.0, 35.9, 0.0, 0.0, 0.1],\n",
       " [5200.0, 2197000.0, 75.6, 0.0, 0.2, 0.0, 24.2, 0.0, 0.0, 0.0],\n",
       " [1100.0, 2919000.0, 0.1, 0.0, 0.1, 0.0, 99.6, 0.0, 0.0, 0.3],\n",
       " [2200.0, 2397000.0, 1.3, 0.0, 1.6, 0.0, 86.4, 0.0, 0.0, 10.8],\n",
       " [9700.0, 5777000.0, 95.9, 0.0, 1.3, 2.6, 0.3, 0.0, 0.0, 0.0],\n",
       " [3600.0, 1754000.0, 32.5, 0.0, 0.2, 0.0, 67.3, 0.0, 0.0, 0.0],\n",
       " [4000.0, 4354000.0, 43.5, 0.0, 0.1, 0.0, 55.5, 0.0, 0.0, 0.9],\n",
       " [10300.0, 10516000.0, 100.0, 0.0, 0.0, 0.0, 0.0, 0.0, 0.0, 0.0],\n",
       " [2700.0, 2473000.0, 32.9, 0.0, 0.1, 0.0, 65.3, 0.0, 0.0, 1.7],\n",
       " [3300.0, 1312000.0, 84.8, 0.0, 6.0, 0.5, 6.3, 0.0, 0.0, 2.4],\n",
       " [3300.0, 3065000.0, 13.0, 0.0, 0.9, 0.0, 85.5, 0.0, 0.0, 0.5],\n",
       " [14400.0, 784000.0, 40.6, 0.0, 0.1, 0.0, 59.0, 0.0, 0.0, 0.3],\n",
       " [2700.0, 992000.0, 22.2, 0.0, 0.7, 0.0, 77.1, 0.0, 0.0, 0.0],\n",
       " [2200.0, 890000.0, 67.4, 0.0, 1.0, 0.0, 29.7, 0.0, 0.0, 1.9],\n",
       " [2200.0, 392000.0, 89.4, 0.0, 3.3, 0.0, 6.9, 0.0, 0.0, 0.4],\n",
       " [16000.0, 766000.0, 99.8, 0.0, 0.2, 0.0, 0.0, 0.0, 0.0, 0.0],\n",
       " [1200.0, 2765000.0, 19.6, 0.0, 0.2, 0.0, 79.6, 0.0, 0.0, 0.6],\n",
       " [3300.0, 475000.0, 96.9, 0.0, 3.1, 0.0, 0.0, 0.0, 0.0, 0.0],\n",
       " [17000.0, 349000.0, 89.4, 0.0, 0.0, 0.0, 10.6, 0.0, 0.0, 0.0],\n",
       " [1500.0, 587000.0, 59.8, 0.0, 1.1, 0.0, 38.2, 0.0, 0.0, 1.0],\n",
       " [1200.0, 324000.0, 94.1, 0.0, 5.9, 0.0, 0.0, 0.0, 0.0, 0.0],\n",
       " [3400.0, 629000.0, 70.1, 0.0, 0.0, 0.0, 29.9, 0.0, 0.0, 0.0],\n",
       " [1500.0, 87000.0, 96.8, 0.0, 0.0, 3.2, 0.0, 0.0, 0.0, 0.0],\n",
       " [8900.0, 640000.0, 6.1, 0.0, 4.7, 0.5, 88.8, 0.0, 0.0, 0.0],\n",
       " [2100.0, 265000.0, 39.0, 0.0, 6.5, 0.0, 53.9, 0.0, 0.0, 0.6],\n",
       " [1500.0, 618000.0, 11.8, 0.0, 3.2, 0.0, 81.9, 0.0, 0.0, 3.2],\n",
       " [19500.0, 936000.0, 75.4, 0.0, 5.3, 0.7, 3.7, 0.0, 0.0, 15.0],\n",
       " [5000.0, 656000.0, 73.2, 0.0, 8.1, 6.8, 11.9, 0.0, 0.0, 0.0],\n",
       " [800.0, 91000.0, 95.3, 0.0, 3.0, 1.7, 0.0, 0.0, 0.0, 0.0],\n",
       " [2100.0, 210000.0, 82.2, 0.0, 0.6, 0.0, 17.2, 0.0, 0.0, 0.0],\n",
       " [8400.0, 286000.0, 44.1, 0.0, 0.2, 0.0, 24.8, 0.0, 0.0, 31.0],\n",
       " [1600.0, 180000.0, 8.2, 0.0, 2.9, 0.0, 87.0, 0.0, 0.0, 1.9],\n",
       " [1400.0, 196000.0, 40.5, 0.0, 0.5, 0.0, 59.1, 0.0, 0.0, 0.0],\n",
       " [5500.0, 130000.0, 98.2, 0.0, 1.8, 0.0, 0.0, 0.0, 0.0, 0.0],\n",
       " [700.0, 100000.0, 33.3, 0.0, 2.3, 0.0, 62.8, 0.0, 0.0, 1.7],\n",
       " [2300.0, 74000.0, 0.0, 0.0, 0.2, 0.0, 99.8, 0.0, 0.0, 0.0],\n",
       " [900.0, 38000.0, 0.7, 0.0, 0.0, 0.0, 99.3, 0.0, 0.0, 0.0],\n",
       " [2200.0, 137000.0, 98.9, 0.0, 1.0, 0.0, 0.0, 0.0, 0.0, 0.0],\n",
       " [6000.0, 205000.0, 80.2, 0.0, 2.0, 17.8, 0.0, 0.0, 0.0, 0.0],\n",
       " [24400.0, 157000.0, 99.1, 0.0, 0.9, 0.0, 0.0, 0.0, 0.0, 0.0],\n",
       " [1800.0, 28000.0, 97.6, 0.0, 2.4, 0.0, 0.0, 0.0, 0.0, 0.0],\n",
       " [3100.0, 35000.0, 100.0, 0.0, 0.0, 0.0, 0.0, 0.0, 0.0, 0.0],\n",
       " [4100.0, 28000.0, 89.5, 0.0, 0.0, 0.0, 10.5, 0.0, 0.0, 0.0]]"
      ]
     },
     "execution_count": 181,
     "metadata": {},
     "output_type": "execute_result"
    }
   ],
   "source": [
    "data"
   ]
  },
  {
   "cell_type": "code",
   "execution_count": 182,
   "metadata": {},
   "outputs": [
    {
     "data": {
      "text/plain": [
       "52"
      ]
     },
     "execution_count": 182,
     "metadata": {},
     "output_type": "execute_result"
    }
   ],
   "source": [
    "len(data)"
   ]
  },
  {
   "cell_type": "code",
   "execution_count": 183,
   "metadata": {},
   "outputs": [],
   "source": [
    "countries=list(df.countries)"
   ]
  },
  {
   "cell_type": "code",
   "execution_count": 184,
   "metadata": {},
   "outputs": [
    {
     "data": {
      "text/plain": [
       "[\"['nigeria']\",\n",
       " \"['egypt']\",\n",
       " \"['south-africa']\",\n",
       " \"['algeria']\",\n",
       " \"['morocco']\",\n",
       " \"['angola']\",\n",
       " \"['kenya']\",\n",
       " \"['ethiopia']\",\n",
       " \"['tanzania']\",\n",
       " \"['ghana']\",\n",
       " \"['cote-divoire']\",\n",
       " \"['congo-democratic-republic-of-the']\",\n",
       " \"['uganda']\",\n",
       " \"['tunisia']\",\n",
       " \"['cameroon']\",\n",
       " \"['sudan']\",\n",
       " \"['libya']\",\n",
       " \"['zimbabwe']\",\n",
       " \"['senegal']\",\n",
       " \"['zambia']\",\n",
       " \"['gabon']\",\n",
       " \"['guinea']\",\n",
       " \"['mali']\",\n",
       " \"['burkina-faso']\",\n",
       " \"['botswana']\",\n",
       " \"['mozambique']\",\n",
       " \"['benin']\",\n",
       " \"['equatorial-guinea']\",\n",
       " \"['madagascar']\",\n",
       " \"['niger']\",\n",
       " \"['congo-republic-of-the']\",\n",
       " \"['chad']\",\n",
       " \"['namibia']\",\n",
       " \"['rwanda']\",\n",
       " \"['malawi']\",\n",
       " \"['mauritius']\",\n",
       " \"['mauritania']\",\n",
       " \"['somalia']\",\n",
       " \"['togo']\",\n",
       " \"['south-sudan']\",\n",
       " \"['eswatini']\",\n",
       " \"['sierra-leone']\",\n",
       " \"['liberia']\",\n",
       " \"['djibouti']\",\n",
       " \"['burundi']\",\n",
       " \"['lesotho']\",\n",
       " \"['central-african-republic']\",\n",
       " \"['eritrea']\",\n",
       " \"['gambia-the']\",\n",
       " \"['cabo-verde']\",\n",
       " \"['seychelles']\",\n",
       " \"['guinea-bissau']\",\n",
       " \"['comoros']\",\n",
       " \"['sao-tome-and-principe']\"]"
      ]
     },
     "execution_count": 184,
     "metadata": {},
     "output_type": "execute_result"
    }
   ],
   "source": [
    "countries"
   ]
  },
  {
   "cell_type": "code",
   "execution_count": 185,
   "metadata": {},
   "outputs": [
    {
     "data": {
      "text/plain": [
       "\"['eritrea']\""
      ]
     },
     "execution_count": 185,
     "metadata": {},
     "output_type": "execute_result"
    }
   ],
   "source": [
    "# pop country 47 and 39\n",
    "countries.pop(47)"
   ]
  },
  {
   "cell_type": "code",
   "execution_count": 186,
   "metadata": {},
   "outputs": [
    {
     "data": {
      "text/plain": [
       "\"['south-sudan']\""
      ]
     },
     "execution_count": 186,
     "metadata": {},
     "output_type": "execute_result"
    }
   ],
   "source": [
    "countries.pop(39)"
   ]
  },
  {
   "cell_type": "code",
   "execution_count": 187,
   "metadata": {},
   "outputs": [],
   "source": [
    "countries=[country.translate(translation_table) for country in countries]"
   ]
  },
  {
   "cell_type": "code",
   "execution_count": 188,
   "metadata": {},
   "outputs": [
    {
     "data": {
      "text/plain": [
       "'nigeria'"
      ]
     },
     "execution_count": 188,
     "metadata": {},
     "output_type": "execute_result"
    }
   ],
   "source": [
    "countries[0]"
   ]
  },
  {
   "cell_type": "code",
   "execution_count": 189,
   "metadata": {},
   "outputs": [],
   "source": [
    "for i in range(len(data)):\n",
    "   data[i].insert(0,countries[i]) "
   ]
  },
  {
   "cell_type": "code",
   "execution_count": 190,
   "metadata": {},
   "outputs": [
    {
     "data": {
      "text/plain": [
       "[['nigeria', 4900.0, 11691000.0, 78.1, 0.0, 0.2, 0.0, 21.7, 0.0, 0.0, 0.1],\n",
       " ['egypt', 12000.0, 59826000.0, 88.7, 0.0, 1.0, 2.5, 7.7, 0.0, 0.0, 0.2],\n",
       " ['south-africa',\n",
       "  11500.0,\n",
       "  62728000.0,\n",
       "  87.9,\n",
       "  5.2,\n",
       "  1.6,\n",
       "  2.6,\n",
       "  2.5,\n",
       "  0.0,\n",
       "  0.0,\n",
       "  0.2],\n",
       " ['algeria', 10700.0, 21694000.0, 98.9, 0.0, 0.9, 0.0, 0.1, 0.0, 0.0, 0.0],\n",
       " ['morocco', 6900.0, 14187000.0, 81.6, 0.0, 1.1, 13.0, 4.4, 0.0, 0.0, 0.0],\n",
       " ['angola', 6200.0, 7344000.0, 28.4, 0.0, 0.1, 0.0, 70.1, 0.0, 0.0, 1.4],\n",
       " ['kenya', 4200.0, 3304000.0, 8.3, 0.0, 1.0, 10.7, 32.6, 0.0, 46.2, 1.2],\n",
       " ['ethiopia', 2300.0, 4856000.0, 0.0, 0.0, 0.1, 3.8, 95.8, 0.0, 0.0, 0.3],\n",
       " ['tanzania', 2600.0, 1623000.0, 65.0, 0.0, 1.3, 0.0, 32.8, 0.0, 0.0, 1.0],\n",
       " ['ghana', 5300.0, 5312000.0, 63.8, 0.0, 0.3, 0.0, 35.9, 0.0, 0.0, 0.1],\n",
       " ['cote-divoire', 5200.0, 2197000.0, 75.6, 0.0, 0.2, 0.0, 24.2, 0.0, 0.0, 0.0],\n",
       " ['congo-democratic-republic-of-the',\n",
       "  1100.0,\n",
       "  2919000.0,\n",
       "  0.1,\n",
       "  0.0,\n",
       "  0.1,\n",
       "  0.0,\n",
       "  99.6,\n",
       "  0.0,\n",
       "  0.0,\n",
       "  0.3],\n",
       " ['uganda', 2200.0, 2397000.0, 1.3, 0.0, 1.6, 0.0, 86.4, 0.0, 0.0, 10.8],\n",
       " ['tunisia', 9700.0, 5777000.0, 95.9, 0.0, 1.3, 2.6, 0.3, 0.0, 0.0, 0.0],\n",
       " ['cameroon', 3600.0, 1754000.0, 32.5, 0.0, 0.2, 0.0, 67.3, 0.0, 0.0, 0.0],\n",
       " ['sudan', 4000.0, 4354000.0, 43.5, 0.0, 0.1, 0.0, 55.5, 0.0, 0.0, 0.9],\n",
       " ['libya', 10300.0, 10516000.0, 100.0, 0.0, 0.0, 0.0, 0.0, 0.0, 0.0, 0.0],\n",
       " ['zimbabwe', 2700.0, 2473000.0, 32.9, 0.0, 0.1, 0.0, 65.3, 0.0, 0.0, 1.7],\n",
       " ['senegal', 3300.0, 1312000.0, 84.8, 0.0, 6.0, 0.5, 6.3, 0.0, 0.0, 2.4],\n",
       " ['zambia', 3300.0, 3065000.0, 13.0, 0.0, 0.9, 0.0, 85.5, 0.0, 0.0, 0.5],\n",
       " ['gabon', 14400.0, 784000.0, 40.6, 0.0, 0.1, 0.0, 59.0, 0.0, 0.0, 0.3],\n",
       " ['guinea', 2700.0, 992000.0, 22.2, 0.0, 0.7, 0.0, 77.1, 0.0, 0.0, 0.0],\n",
       " ['mali', 2200.0, 890000.0, 67.4, 0.0, 1.0, 0.0, 29.7, 0.0, 0.0, 1.9],\n",
       " ['burkina-faso', 2200.0, 392000.0, 89.4, 0.0, 3.3, 0.0, 6.9, 0.0, 0.0, 0.4],\n",
       " ['botswana', 16000.0, 766000.0, 99.8, 0.0, 0.2, 0.0, 0.0, 0.0, 0.0, 0.0],\n",
       " ['mozambique', 1200.0, 2765000.0, 19.6, 0.0, 0.2, 0.0, 79.6, 0.0, 0.0, 0.6],\n",
       " ['benin', 3300.0, 475000.0, 96.9, 0.0, 3.1, 0.0, 0.0, 0.0, 0.0, 0.0],\n",
       " ['equatorial-guinea',\n",
       "  17000.0,\n",
       "  349000.0,\n",
       "  89.4,\n",
       "  0.0,\n",
       "  0.0,\n",
       "  0.0,\n",
       "  10.6,\n",
       "  0.0,\n",
       "  0.0,\n",
       "  0.0],\n",
       " ['madagascar', 1500.0, 587000.0, 59.8, 0.0, 1.1, 0.0, 38.2, 0.0, 0.0, 1.0],\n",
       " ['niger', 1200.0, 324000.0, 94.1, 0.0, 5.9, 0.0, 0.0, 0.0, 0.0, 0.0],\n",
       " ['congo-republic-of-the',\n",
       "  3400.0,\n",
       "  629000.0,\n",
       "  70.1,\n",
       "  0.0,\n",
       "  0.0,\n",
       "  0.0,\n",
       "  29.9,\n",
       "  0.0,\n",
       "  0.0,\n",
       "  0.0],\n",
       " ['chad', 1500.0, 87000.0, 96.8, 0.0, 0.0, 3.2, 0.0, 0.0, 0.0, 0.0],\n",
       " ['namibia', 8900.0, 640000.0, 6.1, 0.0, 4.7, 0.5, 88.8, 0.0, 0.0, 0.0],\n",
       " ['rwanda', 2100.0, 265000.0, 39.0, 0.0, 6.5, 0.0, 53.9, 0.0, 0.0, 0.6],\n",
       " ['malawi', 1500.0, 618000.0, 11.8, 0.0, 3.2, 0.0, 81.9, 0.0, 0.0, 3.2],\n",
       " ['mauritius', 19500.0, 936000.0, 75.4, 0.0, 5.3, 0.7, 3.7, 0.0, 0.0, 15.0],\n",
       " ['mauritania', 5000.0, 656000.0, 73.2, 0.0, 8.1, 6.8, 11.9, 0.0, 0.0, 0.0],\n",
       " ['somalia', 800.0, 91000.0, 95.3, 0.0, 3.0, 1.7, 0.0, 0.0, 0.0, 0.0],\n",
       " ['togo', 2100.0, 210000.0, 82.2, 0.0, 0.6, 0.0, 17.2, 0.0, 0.0, 0.0],\n",
       " ['eswatini', 8400.0, 286000.0, 44.1, 0.0, 0.2, 0.0, 24.8, 0.0, 0.0, 31.0],\n",
       " ['sierra-leone', 1600.0, 180000.0, 8.2, 0.0, 2.9, 0.0, 87.0, 0.0, 0.0, 1.9],\n",
       " ['liberia', 1400.0, 196000.0, 40.5, 0.0, 0.5, 0.0, 59.1, 0.0, 0.0, 0.0],\n",
       " ['djibouti', 5500.0, 130000.0, 98.2, 0.0, 1.8, 0.0, 0.0, 0.0, 0.0, 0.0],\n",
       " ['burundi', 700.0, 100000.0, 33.3, 0.0, 2.3, 0.0, 62.8, 0.0, 0.0, 1.7],\n",
       " ['lesotho', 2300.0, 74000.0, 0.0, 0.0, 0.2, 0.0, 99.8, 0.0, 0.0, 0.0],\n",
       " ['central-african-republic',\n",
       "  900.0,\n",
       "  38000.0,\n",
       "  0.7,\n",
       "  0.0,\n",
       "  0.0,\n",
       "  0.0,\n",
       "  99.3,\n",
       "  0.0,\n",
       "  0.0,\n",
       "  0.0],\n",
       " ['gambia-the', 2200.0, 137000.0, 98.9, 0.0, 1.0, 0.0, 0.0, 0.0, 0.0, 0.0],\n",
       " ['cabo-verde', 6000.0, 205000.0, 80.2, 0.0, 2.0, 17.8, 0.0, 0.0, 0.0, 0.0],\n",
       " ['seychelles', 24400.0, 157000.0, 99.1, 0.0, 0.9, 0.0, 0.0, 0.0, 0.0, 0.0],\n",
       " ['guinea-bissau', 1800.0, 28000.0, 97.6, 0.0, 2.4, 0.0, 0.0, 0.0, 0.0, 0.0],\n",
       " ['comoros', 3100.0, 35000.0, 100.0, 0.0, 0.0, 0.0, 0.0, 0.0, 0.0, 0.0],\n",
       " ['sao-tome-and-principe',\n",
       "  4100.0,\n",
       "  28000.0,\n",
       "  89.5,\n",
       "  0.0,\n",
       "  0.0,\n",
       "  0.0,\n",
       "  10.5,\n",
       "  0.0,\n",
       "  0.0,\n",
       "  0.0]]"
      ]
     },
     "execution_count": 190,
     "metadata": {},
     "output_type": "execute_result"
    }
   ],
   "source": [
    "data"
   ]
  },
  {
   "cell_type": "markdown",
   "metadata": {},
   "source": [
    "### Get our columns together"
   ]
  },
  {
   "cell_type": "code",
   "execution_count": 191,
   "metadata": {},
   "outputs": [
    {
     "data": {
      "text/plain": [
       "[[['fossil fuels: 78.1'],\n",
       "  ['nuclear: 0'],\n",
       "  ['solar: 0.2'],\n",
       "  ['wind: 0'],\n",
       "  ['hydroelectricity: 21.7'],\n",
       "  ['tide and wave: 0'],\n",
       "  ['geothermal: 0'],\n",
       "  ['biomass and waste: 0.1'],\n",
       "  ['']],\n",
       " [['fossil fuels: 88.7'],\n",
       "  ['nuclear: 0'],\n",
       "  ['solar: 1'],\n",
       "  ['wind: 2.5'],\n",
       "  ['hydroelectricity: 7.7'],\n",
       "  ['tide and wave: 0'],\n",
       "  ['geothermal: 0'],\n",
       "  ['biomass and waste: 0.2'],\n",
       "  ['']],\n",
       " [['fossil fuels: 87.9'],\n",
       "  ['nuclear: 5.2'],\n",
       "  ['solar: 1.6'],\n",
       "  ['wind: 2.6'],\n",
       "  ['hydroelectricity: 2.5'],\n",
       "  ['tide and wave: 0'],\n",
       "  ['geothermal: 0'],\n",
       "  ['biomass and waste: 0.2'],\n",
       "  ['']],\n",
       " [['fossil fuels: 98.9'],\n",
       "  ['nuclear: 0'],\n",
       "  ['solar: 0.9'],\n",
       "  ['wind: 0'],\n",
       "  ['hydroelectricity: 0.1'],\n",
       "  ['tide and wave: 0'],\n",
       "  ['geothermal: 0'],\n",
       "  ['biomass and waste: 0'],\n",
       "  ['']],\n",
       " [['fossil fuels: 81.6'],\n",
       "  ['nuclear: 0'],\n",
       "  ['solar: 1.1'],\n",
       "  ['wind: 13'],\n",
       "  ['hydroelectricity: 4.4'],\n",
       "  ['tide and wave: 0'],\n",
       "  ['geothermal: 0'],\n",
       "  ['biomass and waste: 0'],\n",
       "  ['']],\n",
       " [['fossil fuels: 28.4'],\n",
       "  ['nuclear: 0'],\n",
       "  ['solar: 0.1'],\n",
       "  ['wind: 0'],\n",
       "  ['hydroelectricity: 70.1'],\n",
       "  ['tide and wave: 0'],\n",
       "  ['geothermal: 0'],\n",
       "  ['biomass and waste: 1.4'],\n",
       "  ['']],\n",
       " [['fossil fuels: 8.3'],\n",
       "  ['nuclear: 0'],\n",
       "  ['solar: 1'],\n",
       "  ['wind: 10.7'],\n",
       "  ['hydroelectricity: 32.6'],\n",
       "  ['tide and wave: 0'],\n",
       "  ['geothermal: 46.2'],\n",
       "  ['biomass and waste: 1.2'],\n",
       "  ['']],\n",
       " [['fossil fuels: 0'],\n",
       "  ['nuclear: 0'],\n",
       "  ['solar: 0.1'],\n",
       "  ['wind: 3.8'],\n",
       "  ['hydroelectricity: 95.8'],\n",
       "  ['tide and wave: 0'],\n",
       "  ['geothermal: 0'],\n",
       "  ['biomass and waste: 0.3'],\n",
       "  ['']],\n",
       " [['fossil fuels: 65'],\n",
       "  ['nuclear: 0'],\n",
       "  ['solar: 1.3'],\n",
       "  ['wind: 0'],\n",
       "  ['hydroelectricity: 32.8'],\n",
       "  ['tide and wave: 0'],\n",
       "  ['geothermal: 0'],\n",
       "  ['biomass and waste: 1'],\n",
       "  ['']],\n",
       " [['fossil fuels: 63.8'],\n",
       "  ['nuclear: 0'],\n",
       "  ['solar: 0.3'],\n",
       "  ['wind: 0'],\n",
       "  ['hydroelectricity: 35.9'],\n",
       "  ['tide and wave: 0'],\n",
       "  ['geothermal: 0'],\n",
       "  ['biomass and waste: 0.1'],\n",
       "  ['']],\n",
       " [['fossil fuels: 75.6'],\n",
       "  ['nuclear: 0'],\n",
       "  ['solar: 0.2'],\n",
       "  ['wind: 0'],\n",
       "  ['hydroelectricity: 24.2'],\n",
       "  ['tide and wave: 0'],\n",
       "  ['geothermal: 0'],\n",
       "  ['biomass and waste: 0'],\n",
       "  ['']],\n",
       " [['fossil fuels: 0.1'],\n",
       "  ['nuclear: 0'],\n",
       "  ['solar: 0.1'],\n",
       "  ['wind: 0'],\n",
       "  ['hydroelectricity: 99.6'],\n",
       "  ['tide and wave: 0'],\n",
       "  ['geothermal: 0'],\n",
       "  ['biomass and waste: 0.3'],\n",
       "  ['']],\n",
       " [['fossil fuels: 1.3'],\n",
       "  ['nuclear: 0'],\n",
       "  ['solar: 1.6'],\n",
       "  ['wind: 0'],\n",
       "  ['hydroelectricity: 86.4'],\n",
       "  ['tide and wave: 0'],\n",
       "  ['geothermal: 0'],\n",
       "  ['biomass and waste: 10.8'],\n",
       "  ['']],\n",
       " [['fossil fuels: 95.9'],\n",
       "  ['nuclear: 0'],\n",
       "  ['solar: 1.3'],\n",
       "  ['wind: 2.6'],\n",
       "  ['hydroelectricity: 0.3'],\n",
       "  ['tide and wave: 0'],\n",
       "  ['geothermal: 0'],\n",
       "  ['biomass and waste: 0'],\n",
       "  ['']],\n",
       " [['fossil fuels: 32.5'],\n",
       "  ['nuclear: 0'],\n",
       "  ['solar: 0.2'],\n",
       "  ['wind: 0'],\n",
       "  ['hydroelectricity: 67.3'],\n",
       "  ['tide and wave: 0'],\n",
       "  ['geothermal: 0'],\n",
       "  ['biomass and waste: 0'],\n",
       "  ['']],\n",
       " [['fossil fuels: 43.5'],\n",
       "  ['nuclear: 0'],\n",
       "  ['solar: 0.1'],\n",
       "  ['wind: 0'],\n",
       "  ['hydroelectricity: 55.5'],\n",
       "  ['tide and wave: 0'],\n",
       "  ['geothermal: 0'],\n",
       "  ['biomass and waste: 0.9'],\n",
       "  ['']],\n",
       " [['fossil fuels: 100'],\n",
       "  ['nuclear: 0'],\n",
       "  ['solar: 0'],\n",
       "  ['wind: 0'],\n",
       "  ['hydroelectricity: 0'],\n",
       "  ['tide and wave: 0'],\n",
       "  ['geothermal: 0'],\n",
       "  ['biomass and waste: 0'],\n",
       "  ['']],\n",
       " [['fossil fuels: 32.9'],\n",
       "  ['nuclear: 0'],\n",
       "  ['solar: 0.1'],\n",
       "  ['wind: 0'],\n",
       "  ['hydroelectricity: 65.3'],\n",
       "  ['tide and wave: 0'],\n",
       "  ['geothermal: 0'],\n",
       "  ['biomass and waste: 1.7'],\n",
       "  ['']],\n",
       " [['fossil fuels: 84.8'],\n",
       "  ['nuclear: 0'],\n",
       "  ['solar: 6'],\n",
       "  ['wind: 0.5'],\n",
       "  ['hydroelectricity: 6.3'],\n",
       "  ['tide and wave: 0'],\n",
       "  ['geothermal: 0'],\n",
       "  ['biomass and waste: 2.4'],\n",
       "  ['']],\n",
       " [['fossil fuels: 13'],\n",
       "  ['nuclear: 0'],\n",
       "  ['solar: 0.9'],\n",
       "  ['wind: 0'],\n",
       "  ['hydroelectricity: 85.5'],\n",
       "  ['tide and wave: 0'],\n",
       "  ['geothermal: 0'],\n",
       "  ['biomass and waste: 0.5'],\n",
       "  ['']],\n",
       " [['fossil fuels: 40.6'],\n",
       "  ['nuclear: 0'],\n",
       "  ['solar: 0.1'],\n",
       "  ['wind: 0'],\n",
       "  ['hydroelectricity: 59'],\n",
       "  ['tide and wave: 0'],\n",
       "  ['geothermal: 0'],\n",
       "  ['biomass and waste: 0.3'],\n",
       "  ['']],\n",
       " [['fossil fuels: 22.2'],\n",
       "  ['nuclear: 0'],\n",
       "  ['solar: 0.7'],\n",
       "  ['wind: 0'],\n",
       "  ['hydroelectricity: 77.1'],\n",
       "  ['tide and wave: 0'],\n",
       "  ['geothermal: 0'],\n",
       "  ['biomass and waste: 0'],\n",
       "  ['']],\n",
       " [['fossil fuels: 67.4'],\n",
       "  ['nuclear: 0'],\n",
       "  ['solar: 1'],\n",
       "  ['wind: 0'],\n",
       "  ['hydroelectricity: 29.7'],\n",
       "  ['tide and wave: 0'],\n",
       "  ['geothermal: 0'],\n",
       "  ['biomass and waste: 1.9'],\n",
       "  ['']],\n",
       " [['fossil fuels: 89.4'],\n",
       "  ['nuclear: 0'],\n",
       "  ['solar: 3.3'],\n",
       "  ['wind: 0'],\n",
       "  ['hydroelectricity: 6.9'],\n",
       "  ['tide and wave: 0'],\n",
       "  ['geothermal: 0'],\n",
       "  ['biomass and waste: 0.4'],\n",
       "  ['']],\n",
       " [['fossil fuels: 99.8'],\n",
       "  ['nuclear: 0'],\n",
       "  ['solar: 0.2'],\n",
       "  ['wind: 0'],\n",
       "  ['hydroelectricity: 0'],\n",
       "  ['tide and wave: 0'],\n",
       "  ['geothermal: 0'],\n",
       "  ['biomass and waste: 0'],\n",
       "  ['']],\n",
       " [['fossil fuels: 19.6'],\n",
       "  ['nuclear: 0'],\n",
       "  ['solar: 0.2'],\n",
       "  ['wind: 0'],\n",
       "  ['hydroelectricity: 79.6'],\n",
       "  ['tide and wave: 0'],\n",
       "  ['geothermal: 0'],\n",
       "  ['biomass and waste: 0.6'],\n",
       "  ['']],\n",
       " [['fossil fuels: 96.9'],\n",
       "  ['nuclear: 0'],\n",
       "  ['solar: 3.1'],\n",
       "  ['wind: 0'],\n",
       "  ['hydroelectricity: 0'],\n",
       "  ['tide and wave: 0'],\n",
       "  ['geothermal: 0'],\n",
       "  ['biomass and waste: 0'],\n",
       "  ['']],\n",
       " [['fossil fuels: 89.4'],\n",
       "  ['nuclear: 0'],\n",
       "  ['solar: 0'],\n",
       "  ['wind: 0'],\n",
       "  ['hydroelectricity: 10.6'],\n",
       "  ['tide and wave: 0'],\n",
       "  ['geothermal: 0'],\n",
       "  ['biomass and waste: 0'],\n",
       "  ['']],\n",
       " [['fossil fuels: 59.8'],\n",
       "  ['nuclear: 0'],\n",
       "  ['solar: 1.1'],\n",
       "  ['wind: 0'],\n",
       "  ['hydroelectricity: 38.2'],\n",
       "  ['tide and wave: 0'],\n",
       "  ['geothermal: 0'],\n",
       "  ['biomass and waste: 1'],\n",
       "  ['']],\n",
       " [['fossil fuels: 94.1'],\n",
       "  ['nuclear: 0'],\n",
       "  ['solar: 5.9'],\n",
       "  ['wind: 0'],\n",
       "  ['hydroelectricity: 0'],\n",
       "  ['tide and wave: 0'],\n",
       "  ['geothermal: 0'],\n",
       "  ['biomass and waste: 0'],\n",
       "  ['']],\n",
       " [['fossil fuels: 70.1'],\n",
       "  ['nuclear: 0'],\n",
       "  ['solar: 0'],\n",
       "  ['wind: 0'],\n",
       "  ['hydroelectricity: 29.9'],\n",
       "  ['tide and wave: 0'],\n",
       "  ['geothermal: 0'],\n",
       "  ['biomass and waste: 0'],\n",
       "  ['']],\n",
       " [['fossil fuels: 96.8'],\n",
       "  ['nuclear: 0'],\n",
       "  ['solar: 0'],\n",
       "  ['wind: 3.2'],\n",
       "  ['hydroelectricity: 0'],\n",
       "  ['tide and wave: 0'],\n",
       "  ['geothermal: 0'],\n",
       "  ['biomass and waste: 0'],\n",
       "  ['']],\n",
       " [['fossil fuels: 6.1'],\n",
       "  ['nuclear: 0'],\n",
       "  ['solar: 4.7'],\n",
       "  ['wind: 0.5'],\n",
       "  ['hydroelectricity: 88.8'],\n",
       "  ['tide and wave: 0'],\n",
       "  ['geothermal: 0'],\n",
       "  ['biomass and waste: 0'],\n",
       "  ['']],\n",
       " [['fossil fuels: 39'],\n",
       "  ['nuclear: 0'],\n",
       "  ['solar: 6.5'],\n",
       "  ['wind: 0'],\n",
       "  ['hydroelectricity: 53.9'],\n",
       "  ['tide and wave: 0'],\n",
       "  ['geothermal: 0'],\n",
       "  ['biomass and waste: 0.6'],\n",
       "  ['']],\n",
       " [['fossil fuels: 11.8'],\n",
       "  ['nuclear: 0'],\n",
       "  ['solar: 3.2'],\n",
       "  ['wind: 0'],\n",
       "  ['hydroelectricity: 81.9'],\n",
       "  ['tide and wave: 0'],\n",
       "  ['geothermal: 0'],\n",
       "  ['biomass and waste: 3.2'],\n",
       "  ['']],\n",
       " [['fossil fuels: 75.4'],\n",
       "  ['nuclear: 0'],\n",
       "  ['solar: 5.3'],\n",
       "  ['wind: 0.7'],\n",
       "  ['hydroelectricity: 3.7'],\n",
       "  ['tide and wave: 0'],\n",
       "  ['geothermal: 0'],\n",
       "  ['biomass and waste: 15'],\n",
       "  ['']],\n",
       " [['fossil fuels: 73.2'],\n",
       "  ['nuclear: 0'],\n",
       "  ['solar: 8.1'],\n",
       "  ['wind: 6.8'],\n",
       "  ['hydroelectricity: 11.9'],\n",
       "  ['tide and wave: 0'],\n",
       "  ['geothermal: 0'],\n",
       "  ['biomass and waste: 0'],\n",
       "  ['']],\n",
       " [['fossil fuels: 95.3'],\n",
       "  ['nuclear: 0'],\n",
       "  ['solar: 3'],\n",
       "  ['wind: 1.7'],\n",
       "  ['hydroelectricity: 0'],\n",
       "  ['tide and wave: 0'],\n",
       "  ['geothermal: 0'],\n",
       "  ['biomass and waste: 0'],\n",
       "  ['']],\n",
       " [['fossil fuels: 82.2'],\n",
       "  ['nuclear: 0'],\n",
       "  ['solar: 0.6'],\n",
       "  ['wind: 0'],\n",
       "  ['hydroelectricity: 17.2'],\n",
       "  ['tide and wave: 0'],\n",
       "  ['geothermal: 0'],\n",
       "  ['biomass and waste: 0'],\n",
       "  ['']],\n",
       " [['fossil fuels: 44.1'],\n",
       "  ['nuclear: 0'],\n",
       "  ['solar: 0.2'],\n",
       "  ['wind: 0'],\n",
       "  ['hydroelectricity: 24.8'],\n",
       "  ['tide and wave: 0'],\n",
       "  ['geothermal: 0'],\n",
       "  ['biomass and waste: 31'],\n",
       "  ['']],\n",
       " [['fossil fuels: 8.2'],\n",
       "  ['nuclear: 0'],\n",
       "  ['solar: 2.9'],\n",
       "  ['wind: 0'],\n",
       "  ['hydroelectricity: 87'],\n",
       "  ['tide and wave: 0'],\n",
       "  ['geothermal: 0'],\n",
       "  ['biomass and waste: 1.9'],\n",
       "  ['']],\n",
       " [['fossil fuels: 40.5'],\n",
       "  ['nuclear: 0'],\n",
       "  ['solar: 0.5'],\n",
       "  ['wind: 0'],\n",
       "  ['hydroelectricity: 59.1'],\n",
       "  ['tide and wave: 0'],\n",
       "  ['geothermal: 0'],\n",
       "  ['biomass and waste: 0'],\n",
       "  ['']],\n",
       " [['fossil fuels: 98.2'],\n",
       "  ['nuclear: 0'],\n",
       "  ['solar: 1.8'],\n",
       "  ['wind: 0'],\n",
       "  ['hydroelectricity: 0'],\n",
       "  ['tide and wave: 0'],\n",
       "  ['geothermal: 0'],\n",
       "  ['biomass and waste: 0'],\n",
       "  ['']],\n",
       " [['fossil fuels: 33.3'],\n",
       "  ['nuclear: 0'],\n",
       "  ['solar: 2.3'],\n",
       "  ['wind: 0'],\n",
       "  ['hydroelectricity: 62.8'],\n",
       "  ['tide and wave: 0'],\n",
       "  ['geothermal: 0'],\n",
       "  ['biomass and waste: 1.7'],\n",
       "  ['']],\n",
       " [['fossil fuels: 0'],\n",
       "  ['nuclear: 0'],\n",
       "  ['solar: 0.2'],\n",
       "  ['wind: 0'],\n",
       "  ['hydroelectricity: 99.8'],\n",
       "  ['tide and wave: 0'],\n",
       "  ['geothermal: 0'],\n",
       "  ['biomass and waste: 0'],\n",
       "  ['']],\n",
       " [['fossil fuels: 0.7'],\n",
       "  ['nuclear: 0'],\n",
       "  ['solar: 0'],\n",
       "  ['wind: 0'],\n",
       "  ['hydroelectricity: 99.3'],\n",
       "  ['tide and wave: 0'],\n",
       "  ['geothermal: 0'],\n",
       "  ['biomass and waste: 0'],\n",
       "  ['']],\n",
       " [['fossil fuels: 98.9'],\n",
       "  ['nuclear: 0'],\n",
       "  ['solar: 1'],\n",
       "  ['wind: 0'],\n",
       "  ['hydroelectricity: 0'],\n",
       "  ['tide and wave: 0'],\n",
       "  ['geothermal: 0'],\n",
       "  ['biomass and waste: 0'],\n",
       "  ['']],\n",
       " [['fossil fuels: 80.2'],\n",
       "  ['nuclear: 0'],\n",
       "  ['solar: 2'],\n",
       "  ['wind: 17.8'],\n",
       "  ['hydroelectricity: 0'],\n",
       "  ['tide and wave: 0'],\n",
       "  ['geothermal: 0'],\n",
       "  ['biomass and waste: 0'],\n",
       "  ['']],\n",
       " [['fossil fuels: 99.1'],\n",
       "  ['nuclear: 0'],\n",
       "  ['solar: 0.9'],\n",
       "  ['wind: 0'],\n",
       "  ['hydroelectricity: 0'],\n",
       "  ['tide and wave: 0'],\n",
       "  ['geothermal: 0'],\n",
       "  ['biomass and waste: 0'],\n",
       "  ['']],\n",
       " [['fossil fuels: 97.6'],\n",
       "  ['nuclear: 0'],\n",
       "  ['solar: 2.4'],\n",
       "  ['wind: 0'],\n",
       "  ['hydroelectricity: 0'],\n",
       "  ['tide and wave: 0'],\n",
       "  ['geothermal: 0'],\n",
       "  ['biomass and waste: 0'],\n",
       "  ['']],\n",
       " [['fossil fuels: 100'],\n",
       "  ['nuclear: 0'],\n",
       "  ['solar: 0'],\n",
       "  ['wind: 0'],\n",
       "  ['hydroelectricity: 0'],\n",
       "  ['tide and wave: 0'],\n",
       "  ['geothermal: 0'],\n",
       "  ['biomass and waste: 0'],\n",
       "  ['']],\n",
       " [['fossil fuels: 89.5'],\n",
       "  ['nuclear: 0'],\n",
       "  ['solar: 0'],\n",
       "  ['wind: 0'],\n",
       "  ['hydroelectricity: 10.5'],\n",
       "  ['tide and wave: 0'],\n",
       "  ['geothermal: 0'],\n",
       "  ['biomass and waste: 0'],\n",
       "  ['']]]"
      ]
     },
     "execution_count": 191,
     "metadata": {},
     "output_type": "execute_result"
    }
   ],
   "source": [
    "elegensources"
   ]
  },
  {
   "cell_type": "code",
   "execution_count": 192,
   "metadata": {},
   "outputs": [],
   "source": [
    "energysrc=[[elegen[0].split(': ')[0] for elegen in elegensources[i][:8]] for i in range(len(elegensources))][0]"
   ]
  },
  {
   "cell_type": "code",
   "execution_count": 193,
   "metadata": {},
   "outputs": [
    {
     "data": {
      "text/plain": [
       "['fossil fuels',\n",
       " 'nuclear',\n",
       " 'solar',\n",
       " 'wind',\n",
       " 'hydroelectricity',\n",
       " 'tide and wave',\n",
       " 'geothermal',\n",
       " 'biomass and waste']"
      ]
     },
     "execution_count": 193,
     "metadata": {},
     "output_type": "execute_result"
    }
   ],
   "source": [
    "energysrc"
   ]
  },
  {
   "cell_type": "code",
   "execution_count": 194,
   "metadata": {},
   "outputs": [],
   "source": [
    "energysrc.insert(0,'country')"
   ]
  },
  {
   "cell_type": "code",
   "execution_count": 195,
   "metadata": {},
   "outputs": [],
   "source": [
    "energysrc.insert(1,'real gdp per capita ($)')"
   ]
  },
  {
   "cell_type": "code",
   "execution_count": 196,
   "metadata": {},
   "outputs": [],
   "source": [
    "energysrc.insert(2,'installed capacity (kW)')"
   ]
  },
  {
   "cell_type": "code",
   "execution_count": 197,
   "metadata": {},
   "outputs": [
    {
     "data": {
      "text/plain": [
       "['country',\n",
       " 'real gdp per capita ($)',\n",
       " 'installed capacity (kW)',\n",
       " 'fossil fuels',\n",
       " 'nuclear',\n",
       " 'solar',\n",
       " 'wind',\n",
       " 'hydroelectricity',\n",
       " 'tide and wave',\n",
       " 'geothermal',\n",
       " 'biomass and waste']"
      ]
     },
     "execution_count": 197,
     "metadata": {},
     "output_type": "execute_result"
    }
   ],
   "source": [
    "energysrc"
   ]
  },
  {
   "cell_type": "code",
   "execution_count": 198,
   "metadata": {},
   "outputs": [],
   "source": [
    "columns=[column.translate(translation_table) for column in energysrc]"
   ]
  },
  {
   "cell_type": "code",
   "execution_count": 199,
   "metadata": {},
   "outputs": [
    {
     "data": {
      "text/plain": [
       "11"
      ]
     },
     "execution_count": 199,
     "metadata": {},
     "output_type": "execute_result"
    }
   ],
   "source": [
    "len(columns)"
   ]
  },
  {
   "cell_type": "code",
   "execution_count": 200,
   "metadata": {},
   "outputs": [
    {
     "data": {
      "text/plain": [
       "11"
      ]
     },
     "execution_count": 200,
     "metadata": {},
     "output_type": "execute_result"
    }
   ],
   "source": [
    "len(data[0])"
   ]
  },
  {
   "cell_type": "markdown",
   "metadata": {},
   "source": [
    "### Hooray!"
   ]
  },
  {
   "cell_type": "markdown",
   "metadata": {},
   "source": [
    "We have cleaned our data, and now, we can store it. We are ready to look for patterns in our data and communicate our findings!"
   ]
  },
  {
   "cell_type": "code",
   "execution_count": 201,
   "metadata": {},
   "outputs": [],
   "source": [
    "africanrgvsgdp_clean=pd.DataFrame(data,columns=columns)"
   ]
  },
  {
   "cell_type": "code",
   "execution_count": 202,
   "metadata": {},
   "outputs": [
    {
     "data": {
      "text/html": [
       "<div>\n",
       "<style scoped>\n",
       "    .dataframe tbody tr th:only-of-type {\n",
       "        vertical-align: middle;\n",
       "    }\n",
       "\n",
       "    .dataframe tbody tr th {\n",
       "        vertical-align: top;\n",
       "    }\n",
       "\n",
       "    .dataframe thead th {\n",
       "        text-align: right;\n",
       "    }\n",
       "</style>\n",
       "<table border=\"1\" class=\"dataframe\">\n",
       "  <thead>\n",
       "    <tr style=\"text-align: right;\">\n",
       "      <th></th>\n",
       "      <th>country</th>\n",
       "      <th>real gdp per capita $</th>\n",
       "      <th>installed capacity kW</th>\n",
       "      <th>fossil fuels</th>\n",
       "      <th>nuclear</th>\n",
       "      <th>solar</th>\n",
       "      <th>wind</th>\n",
       "      <th>hydroelectricity</th>\n",
       "      <th>tide and wave</th>\n",
       "      <th>geothermal</th>\n",
       "      <th>biomass and waste</th>\n",
       "    </tr>\n",
       "  </thead>\n",
       "  <tbody>\n",
       "    <tr>\n",
       "      <th>0</th>\n",
       "      <td>nigeria</td>\n",
       "      <td>4900.0</td>\n",
       "      <td>11691000.0</td>\n",
       "      <td>78.1</td>\n",
       "      <td>0.0</td>\n",
       "      <td>0.2</td>\n",
       "      <td>0.0</td>\n",
       "      <td>21.7</td>\n",
       "      <td>0.0</td>\n",
       "      <td>0.0</td>\n",
       "      <td>0.1</td>\n",
       "    </tr>\n",
       "    <tr>\n",
       "      <th>1</th>\n",
       "      <td>egypt</td>\n",
       "      <td>12000.0</td>\n",
       "      <td>59826000.0</td>\n",
       "      <td>88.7</td>\n",
       "      <td>0.0</td>\n",
       "      <td>1.0</td>\n",
       "      <td>2.5</td>\n",
       "      <td>7.7</td>\n",
       "      <td>0.0</td>\n",
       "      <td>0.0</td>\n",
       "      <td>0.2</td>\n",
       "    </tr>\n",
       "    <tr>\n",
       "      <th>2</th>\n",
       "      <td>south-africa</td>\n",
       "      <td>11500.0</td>\n",
       "      <td>62728000.0</td>\n",
       "      <td>87.9</td>\n",
       "      <td>5.2</td>\n",
       "      <td>1.6</td>\n",
       "      <td>2.6</td>\n",
       "      <td>2.5</td>\n",
       "      <td>0.0</td>\n",
       "      <td>0.0</td>\n",
       "      <td>0.2</td>\n",
       "    </tr>\n",
       "    <tr>\n",
       "      <th>3</th>\n",
       "      <td>algeria</td>\n",
       "      <td>10700.0</td>\n",
       "      <td>21694000.0</td>\n",
       "      <td>98.9</td>\n",
       "      <td>0.0</td>\n",
       "      <td>0.9</td>\n",
       "      <td>0.0</td>\n",
       "      <td>0.1</td>\n",
       "      <td>0.0</td>\n",
       "      <td>0.0</td>\n",
       "      <td>0.0</td>\n",
       "    </tr>\n",
       "    <tr>\n",
       "      <th>4</th>\n",
       "      <td>morocco</td>\n",
       "      <td>6900.0</td>\n",
       "      <td>14187000.0</td>\n",
       "      <td>81.6</td>\n",
       "      <td>0.0</td>\n",
       "      <td>1.1</td>\n",
       "      <td>13.0</td>\n",
       "      <td>4.4</td>\n",
       "      <td>0.0</td>\n",
       "      <td>0.0</td>\n",
       "      <td>0.0</td>\n",
       "    </tr>\n",
       "  </tbody>\n",
       "</table>\n",
       "</div>"
      ],
      "text/plain": [
       "        country  real gdp per capita $  installed capacity kW  fossil fuels  \\\n",
       "0       nigeria                 4900.0             11691000.0          78.1   \n",
       "1         egypt                12000.0             59826000.0          88.7   \n",
       "2  south-africa                11500.0             62728000.0          87.9   \n",
       "3       algeria                10700.0             21694000.0          98.9   \n",
       "4       morocco                 6900.0             14187000.0          81.6   \n",
       "\n",
       "   nuclear  solar  wind  hydroelectricity  tide and wave  geothermal  \\\n",
       "0      0.0    0.2   0.0              21.7            0.0         0.0   \n",
       "1      0.0    1.0   2.5               7.7            0.0         0.0   \n",
       "2      5.2    1.6   2.6               2.5            0.0         0.0   \n",
       "3      0.0    0.9   0.0               0.1            0.0         0.0   \n",
       "4      0.0    1.1  13.0               4.4            0.0         0.0   \n",
       "\n",
       "   biomass and waste  \n",
       "0                0.1  \n",
       "1                0.2  \n",
       "2                0.2  \n",
       "3                0.0  \n",
       "4                0.0  "
      ]
     },
     "execution_count": 202,
     "metadata": {},
     "output_type": "execute_result"
    }
   ],
   "source": [
    "africanrgvsgdp_clean.head()"
   ]
  },
  {
   "cell_type": "code",
   "execution_count": 203,
   "metadata": {},
   "outputs": [],
   "source": [
    "africanrgvsgdp_clean.to_csv('africanrgvsgdrp.csv')"
   ]
  },
  {
   "cell_type": "code",
   "execution_count": 204,
   "metadata": {},
   "outputs": [],
   "source": [
    "import jovian"
   ]
  },
  {
   "cell_type": "code",
   "execution_count": 206,
   "metadata": {},
   "outputs": [
    {
     "data": {
      "application/javascript": "window.require && require([\"base/js/namespace\"],function(Jupyter){Jupyter.notebook.save_checkpoint()})",
      "text/plain": [
       "<IPython.core.display.Javascript object>"
      ]
     },
     "metadata": {},
     "output_type": "display_data"
    },
    {
     "name": "stdout",
     "output_type": "stream",
     "text": [
      "[jovian] Updating notebook \"andrewkamaukim/cleaning-africa-fact-book-econandenergy\" on https://jovian.ai/\u001b[0m\n",
      "[jovian] Committed successfully! https://jovian.ai/andrewkamaukim/cleaning-africa-fact-book-econandenergy\u001b[0m\n"
     ]
    },
    {
     "data": {
      "text/plain": [
       "'https://jovian.ai/andrewkamaukim/cleaning-africa-fact-book-econandenergy'"
      ]
     },
     "execution_count": 206,
     "metadata": {},
     "output_type": "execute_result"
    }
   ],
   "source": [
    "jovian.commit(filename=\"cleaning_africa_fact_book_econandenergy.ipynb\")"
   ]
  }
 ],
 "metadata": {
  "kernelspec": {
   "display_name": "Python 3.10.2 64-bit",
   "language": "python",
   "name": "python3"
  },
  "language_info": {
   "codemirror_mode": {
    "name": "ipython",
    "version": 3
   },
   "file_extension": ".py",
   "mimetype": "text/x-python",
   "name": "python",
   "nbconvert_exporter": "python",
   "pygments_lexer": "ipython3",
   "version": "3.10.2"
  },
  "orig_nbformat": 4,
  "vscode": {
   "interpreter": {
    "hash": "a0329d1e859fdaae7091121e22fb799195311d986a530316c2954a05cd641814"
   }
  }
 },
 "nbformat": 4,
 "nbformat_minor": 2
}
